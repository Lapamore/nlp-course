{
  "cells": [
    {
      "cell_type": "markdown",
      "id": "d2f20976-1900-4e5f-b27a-d7d3eb4f05e9",
      "metadata": {
        "id": "d2f20976-1900-4e5f-b27a-d7d3eb4f05e9"
      },
      "source": [
        "# Определение и установка зависимостей"
      ]
    },
    {
      "cell_type": "markdown",
      "id": "e0974357-df02-407b-b04a-2199b57622d4",
      "metadata": {
        "id": "e0974357-df02-407b-b04a-2199b57622d4"
      },
      "source": [
        "![image.png](data:image/png;base64,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)"
      ]
    },
    {
      "cell_type": "code",
      "execution_count": null,
      "id": "2d9d6c3d-96b2-4089-a22d-0d694d20fcb3",
      "metadata": {
        "id": "2d9d6c3d-96b2-4089-a22d-0d694d20fcb3",
        "outputId": "29192bd7-a980-437b-c361-3b381b765170"
      },
      "outputs": [
        {
          "name": "stdout",
          "output_type": "stream",
          "text": [
            "Requirement already satisfied: pandas in /home/dmitry/rl/venv/lib/python3.10/site-packages (from -r requirements.txt (line 1)) (2.2.3)\n",
            "Requirement already satisfied: torch in /home/dmitry/rl/venv/lib/python3.10/site-packages (from -r requirements.txt (line 2)) (2.4.1)\n",
            "Requirement already satisfied: nltk in /home/dmitry/rl/venv/lib/python3.10/site-packages (from -r requirements.txt (line 3)) (3.9.1)\n",
            "Requirement already satisfied: spacy in /home/dmitry/rl/venv/lib/python3.10/site-packages (from -r requirements.txt (line 4)) (3.8.2)\n",
            "Requirement already satisfied: python-dateutil>=2.8.2 in /home/dmitry/rl/venv/lib/python3.10/site-packages (from pandas->-r requirements.txt (line 1)) (2.9.0.post0)\n",
            "Requirement already satisfied: numpy>=1.22.4 in /home/dmitry/rl/venv/lib/python3.10/site-packages (from pandas->-r requirements.txt (line 1)) (2.0.2)\n",
            "Requirement already satisfied: tzdata>=2022.7 in /home/dmitry/rl/venv/lib/python3.10/site-packages (from pandas->-r requirements.txt (line 1)) (2024.2)\n",
            "Requirement already satisfied: pytz>=2020.1 in /home/dmitry/rl/venv/lib/python3.10/site-packages (from pandas->-r requirements.txt (line 1)) (2024.2)\n",
            "Requirement already satisfied: fsspec in /home/dmitry/rl/venv/lib/python3.10/site-packages (from torch->-r requirements.txt (line 2)) (2024.9.0)\n",
            "Requirement already satisfied: sympy in /home/dmitry/rl/venv/lib/python3.10/site-packages (from torch->-r requirements.txt (line 2)) (1.13.3)\n",
            "Requirement already satisfied: nvidia-cuda-cupti-cu12==12.1.105 in /home/dmitry/rl/venv/lib/python3.10/site-packages (from torch->-r requirements.txt (line 2)) (12.1.105)\n",
            "Requirement already satisfied: jinja2 in /home/dmitry/rl/venv/lib/python3.10/site-packages (from torch->-r requirements.txt (line 2)) (3.1.4)\n",
            "Requirement already satisfied: nvidia-cuda-runtime-cu12==12.1.105 in /home/dmitry/rl/venv/lib/python3.10/site-packages (from torch->-r requirements.txt (line 2)) (12.1.105)\n",
            "Requirement already satisfied: nvidia-cudnn-cu12==9.1.0.70 in /home/dmitry/rl/venv/lib/python3.10/site-packages (from torch->-r requirements.txt (line 2)) (9.1.0.70)\n",
            "Requirement already satisfied: nvidia-cusparse-cu12==12.1.0.106 in /home/dmitry/rl/venv/lib/python3.10/site-packages (from torch->-r requirements.txt (line 2)) (12.1.0.106)\n",
            "Requirement already satisfied: nvidia-cuda-nvrtc-cu12==12.1.105 in /home/dmitry/rl/venv/lib/python3.10/site-packages (from torch->-r requirements.txt (line 2)) (12.1.105)\n",
            "Requirement already satisfied: nvidia-cublas-cu12==12.1.3.1 in /home/dmitry/rl/venv/lib/python3.10/site-packages (from torch->-r requirements.txt (line 2)) (12.1.3.1)\n",
            "Requirement already satisfied: typing-extensions>=4.8.0 in /home/dmitry/rl/venv/lib/python3.10/site-packages (from torch->-r requirements.txt (line 2)) (4.12.2)\n",
            "Requirement already satisfied: nvidia-cufft-cu12==11.0.2.54 in /home/dmitry/rl/venv/lib/python3.10/site-packages (from torch->-r requirements.txt (line 2)) (11.0.2.54)\n",
            "Requirement already satisfied: nvidia-curand-cu12==10.3.2.106 in /home/dmitry/rl/venv/lib/python3.10/site-packages (from torch->-r requirements.txt (line 2)) (10.3.2.106)\n",
            "Requirement already satisfied: nvidia-nvtx-cu12==12.1.105 in /home/dmitry/rl/venv/lib/python3.10/site-packages (from torch->-r requirements.txt (line 2)) (12.1.105)\n",
            "Requirement already satisfied: networkx in /home/dmitry/rl/venv/lib/python3.10/site-packages (from torch->-r requirements.txt (line 2)) (3.4.1)\n",
            "Requirement already satisfied: nvidia-nccl-cu12==2.20.5 in /home/dmitry/rl/venv/lib/python3.10/site-packages (from torch->-r requirements.txt (line 2)) (2.20.5)\n",
            "Requirement already satisfied: triton==3.0.0 in /home/dmitry/rl/venv/lib/python3.10/site-packages (from torch->-r requirements.txt (line 2)) (3.0.0)\n",
            "Requirement already satisfied: nvidia-cusolver-cu12==11.4.5.107 in /home/dmitry/rl/venv/lib/python3.10/site-packages (from torch->-r requirements.txt (line 2)) (11.4.5.107)\n",
            "Requirement already satisfied: filelock in /home/dmitry/rl/venv/lib/python3.10/site-packages (from torch->-r requirements.txt (line 2)) (3.16.1)\n",
            "Requirement already satisfied: nvidia-nvjitlink-cu12 in /home/dmitry/rl/venv/lib/python3.10/site-packages (from nvidia-cusolver-cu12==11.4.5.107->torch->-r requirements.txt (line 2)) (12.6.77)\n",
            "Requirement already satisfied: click in /home/dmitry/rl/venv/lib/python3.10/site-packages (from nltk->-r requirements.txt (line 3)) (8.1.7)\n",
            "Requirement already satisfied: joblib in /home/dmitry/rl/venv/lib/python3.10/site-packages (from nltk->-r requirements.txt (line 3)) (1.4.2)\n",
            "Requirement already satisfied: regex>=2021.8.3 in /home/dmitry/rl/venv/lib/python3.10/site-packages (from nltk->-r requirements.txt (line 3)) (2024.9.11)\n",
            "Requirement already satisfied: tqdm in /home/dmitry/rl/venv/lib/python3.10/site-packages (from nltk->-r requirements.txt (line 3)) (4.66.5)\n",
            "Requirement already satisfied: langcodes<4.0.0,>=3.2.0 in /home/dmitry/rl/venv/lib/python3.10/site-packages (from spacy->-r requirements.txt (line 4)) (3.4.1)\n",
            "Requirement already satisfied: spacy-legacy<3.1.0,>=3.0.11 in /home/dmitry/rl/venv/lib/python3.10/site-packages (from spacy->-r requirements.txt (line 4)) (3.0.12)\n",
            "Requirement already satisfied: preshed<3.1.0,>=3.0.2 in /home/dmitry/rl/venv/lib/python3.10/site-packages (from spacy->-r requirements.txt (line 4)) (3.0.9)\n",
            "Requirement already satisfied: typer<1.0.0,>=0.3.0 in /home/dmitry/rl/venv/lib/python3.10/site-packages (from spacy->-r requirements.txt (line 4)) (0.12.5)\n",
            "Requirement already satisfied: thinc<8.4.0,>=8.3.0 in /home/dmitry/rl/venv/lib/python3.10/site-packages (from spacy->-r requirements.txt (line 4)) (8.3.2)\n",
            "Requirement already satisfied: srsly<3.0.0,>=2.4.3 in /home/dmitry/rl/venv/lib/python3.10/site-packages (from spacy->-r requirements.txt (line 4)) (2.4.8)\n",
            "Requirement already satisfied: spacy-loggers<2.0.0,>=1.0.0 in /home/dmitry/rl/venv/lib/python3.10/site-packages (from spacy->-r requirements.txt (line 4)) (1.0.5)\n",
            "Requirement already satisfied: packaging>=20.0 in /home/dmitry/rl/venv/lib/python3.10/site-packages (from spacy->-r requirements.txt (line 4)) (24.1)\n",
            "Requirement already satisfied: murmurhash<1.1.0,>=0.28.0 in /home/dmitry/rl/venv/lib/python3.10/site-packages (from spacy->-r requirements.txt (line 4)) (1.0.10)\n",
            "Requirement already satisfied: requests<3.0.0,>=2.13.0 in /home/dmitry/rl/venv/lib/python3.10/site-packages (from spacy->-r requirements.txt (line 4)) (2.32.3)\n",
            "Requirement already satisfied: catalogue<2.1.0,>=2.0.6 in /home/dmitry/rl/venv/lib/python3.10/site-packages (from spacy->-r requirements.txt (line 4)) (2.0.10)\n",
            "Requirement already satisfied: weasel<0.5.0,>=0.1.0 in /home/dmitry/rl/venv/lib/python3.10/site-packages (from spacy->-r requirements.txt (line 4)) (0.4.1)\n",
            "Requirement already satisfied: pydantic!=1.8,!=1.8.1,<3.0.0,>=1.7.4 in /home/dmitry/rl/venv/lib/python3.10/site-packages (from spacy->-r requirements.txt (line 4)) (2.9.2)\n",
            "Requirement already satisfied: setuptools in /home/dmitry/rl/venv/lib/python3.10/site-packages (from spacy->-r requirements.txt (line 4)) (65.5.0)\n",
            "Requirement already satisfied: wasabi<1.2.0,>=0.9.1 in /home/dmitry/rl/venv/lib/python3.10/site-packages (from spacy->-r requirements.txt (line 4)) (1.1.3)\n",
            "Requirement already satisfied: cymem<2.1.0,>=2.0.2 in /home/dmitry/rl/venv/lib/python3.10/site-packages (from spacy->-r requirements.txt (line 4)) (2.0.8)\n",
            "Requirement already satisfied: language-data>=1.2 in /home/dmitry/rl/venv/lib/python3.10/site-packages (from langcodes<4.0.0,>=3.2.0->spacy->-r requirements.txt (line 4)) (1.2.0)\n",
            "Requirement already satisfied: annotated-types>=0.6.0 in /home/dmitry/rl/venv/lib/python3.10/site-packages (from pydantic!=1.8,!=1.8.1,<3.0.0,>=1.7.4->spacy->-r requirements.txt (line 4)) (0.7.0)\n",
            "Requirement already satisfied: pydantic-core==2.23.4 in /home/dmitry/rl/venv/lib/python3.10/site-packages (from pydantic!=1.8,!=1.8.1,<3.0.0,>=1.7.4->spacy->-r requirements.txt (line 4)) (2.23.4)\n",
            "Requirement already satisfied: six>=1.5 in /home/dmitry/rl/venv/lib/python3.10/site-packages (from python-dateutil>=2.8.2->pandas->-r requirements.txt (line 1)) (1.16.0)\n",
            "Requirement already satisfied: urllib3<3,>=1.21.1 in /home/dmitry/rl/venv/lib/python3.10/site-packages (from requests<3.0.0,>=2.13.0->spacy->-r requirements.txt (line 4)) (2.2.3)\n",
            "Requirement already satisfied: charset-normalizer<4,>=2 in /home/dmitry/rl/venv/lib/python3.10/site-packages (from requests<3.0.0,>=2.13.0->spacy->-r requirements.txt (line 4)) (3.4.0)\n",
            "Requirement already satisfied: idna<4,>=2.5 in /home/dmitry/rl/venv/lib/python3.10/site-packages (from requests<3.0.0,>=2.13.0->spacy->-r requirements.txt (line 4)) (3.10)\n",
            "Requirement already satisfied: certifi>=2017.4.17 in /home/dmitry/rl/venv/lib/python3.10/site-packages (from requests<3.0.0,>=2.13.0->spacy->-r requirements.txt (line 4)) (2024.8.30)\n",
            "Requirement already satisfied: confection<1.0.0,>=0.0.1 in /home/dmitry/rl/venv/lib/python3.10/site-packages (from thinc<8.4.0,>=8.3.0->spacy->-r requirements.txt (line 4)) (0.1.5)\n",
            "Requirement already satisfied: blis<1.1.0,>=1.0.0 in /home/dmitry/rl/venv/lib/python3.10/site-packages (from thinc<8.4.0,>=8.3.0->spacy->-r requirements.txt (line 4)) (1.0.1)\n",
            "Requirement already satisfied: rich>=10.11.0 in /home/dmitry/rl/venv/lib/python3.10/site-packages (from typer<1.0.0,>=0.3.0->spacy->-r requirements.txt (line 4)) (13.9.2)\n",
            "Requirement already satisfied: shellingham>=1.3.0 in /home/dmitry/rl/venv/lib/python3.10/site-packages (from typer<1.0.0,>=0.3.0->spacy->-r requirements.txt (line 4)) (1.5.4)\n",
            "Requirement already satisfied: smart-open<8.0.0,>=5.2.1 in /home/dmitry/rl/venv/lib/python3.10/site-packages (from weasel<0.5.0,>=0.1.0->spacy->-r requirements.txt (line 4)) (7.0.5)\n",
            "Requirement already satisfied: cloudpathlib<1.0.0,>=0.7.0 in /home/dmitry/rl/venv/lib/python3.10/site-packages (from weasel<0.5.0,>=0.1.0->spacy->-r requirements.txt (line 4)) (0.19.0)\n",
            "Requirement already satisfied: MarkupSafe>=2.0 in /home/dmitry/rl/venv/lib/python3.10/site-packages (from jinja2->torch->-r requirements.txt (line 2)) (3.0.1)\n",
            "Requirement already satisfied: mpmath<1.4,>=1.1.0 in /home/dmitry/rl/venv/lib/python3.10/site-packages (from sympy->torch->-r requirements.txt (line 2)) (1.3.0)\n",
            "Requirement already satisfied: marisa-trie>=0.7.7 in /home/dmitry/rl/venv/lib/python3.10/site-packages (from language-data>=1.2->langcodes<4.0.0,>=3.2.0->spacy->-r requirements.txt (line 4)) (1.2.1)\n",
            "Requirement already satisfied: markdown-it-py>=2.2.0 in /home/dmitry/rl/venv/lib/python3.10/site-packages (from rich>=10.11.0->typer<1.0.0,>=0.3.0->spacy->-r requirements.txt (line 4)) (3.0.0)\n",
            "Requirement already satisfied: pygments<3.0.0,>=2.13.0 in /home/dmitry/rl/venv/lib/python3.10/site-packages (from rich>=10.11.0->typer<1.0.0,>=0.3.0->spacy->-r requirements.txt (line 4)) (2.18.0)\n",
            "Requirement already satisfied: wrapt in /home/dmitry/rl/venv/lib/python3.10/site-packages (from smart-open<8.0.0,>=5.2.1->weasel<0.5.0,>=0.1.0->spacy->-r requirements.txt (line 4)) (1.16.0)\n",
            "Requirement already satisfied: mdurl~=0.1 in /home/dmitry/rl/venv/lib/python3.10/site-packages (from markdown-it-py>=2.2.0->rich>=10.11.0->typer<1.0.0,>=0.3.0->spacy->-r requirements.txt (line 4)) (0.1.2)\n",
            "\n",
            "\u001b[1m[\u001b[0m\u001b[34;49mnotice\u001b[0m\u001b[1;39;49m]\u001b[0m\u001b[39;49m A new release of pip is available: \u001b[0m\u001b[31;49m23.0.1\u001b[0m\u001b[39;49m -> \u001b[0m\u001b[32;49m24.2\u001b[0m\n",
            "\u001b[1m[\u001b[0m\u001b[34;49mnotice\u001b[0m\u001b[1;39;49m]\u001b[0m\u001b[39;49m To update, run: \u001b[0m\u001b[32;49mpip install --upgrade pip\u001b[0m\n"
          ]
        }
      ],
      "source": [
        "!pip install -r requirements.txt"
      ]
    },
    {
      "cell_type": "code",
      "execution_count": null,
      "id": "2dd1e206-e886-46da-b7b3-731be226c1a0",
      "metadata": {
        "id": "2dd1e206-e886-46da-b7b3-731be226c1a0",
        "outputId": "3cf4ce41-b212-4892-d105-39ae8a755203"
      },
      "outputs": [
        {
          "name": "stderr",
          "output_type": "stream",
          "text": [
            "[nltk_data] Downloading package stopwords to /home/dmitry/nltk_data...\n",
            "[nltk_data]   Package stopwords is already up-to-date!\n",
            "[nltk_data] Downloading package wordnet to /home/dmitry/nltk_data...\n",
            "[nltk_data]   Package wordnet is already up-to-date!\n"
          ]
        },
        {
          "data": {
            "text/plain": [
              "True"
            ]
          },
          "execution_count": 118,
          "metadata": {},
          "output_type": "execute_result"
        }
      ],
      "source": [
        "import torch\n",
        "import pandas as pd\n",
        "import numpy as np\n",
        "import random\n",
        "import re\n",
        "import nltk\n",
        "import spacy\n",
        "from nltk.corpus import stopwords\n",
        "\n",
        "nltk.download('stopwords')\n",
        "nltk.download('wordnet')\n",
        "\n",
        "# python -m spacy download ru_core_news_md"
      ]
    },
    {
      "cell_type": "code",
      "execution_count": null,
      "id": "ed82dd19-ccc9-4dd1-9116-5c37631fe0f5",
      "metadata": {
        "id": "ed82dd19-ccc9-4dd1-9116-5c37631fe0f5",
        "outputId": "bfc65923-4ee4-466c-8a3a-e0ffd3ba7d6d"
      },
      "outputs": [
        {
          "data": {
            "text/plain": [
              "'2.4.1+cu121'"
            ]
          },
          "execution_count": 2,
          "metadata": {},
          "output_type": "execute_result"
        }
      ],
      "source": [
        "torch.__version__"
      ]
    },
    {
      "cell_type": "markdown",
      "id": "9800094d-515d-49cc-bf33-24d6502d368b",
      "metadata": {
        "id": "9800094d-515d-49cc-bf33-24d6502d368b"
      },
      "source": [
        "# Видеокарта"
      ]
    },
    {
      "cell_type": "code",
      "execution_count": null,
      "id": "7619f369-2ac2-4748-a604-5a159d830b76",
      "metadata": {
        "id": "7619f369-2ac2-4748-a604-5a159d830b76",
        "outputId": "49eeb083-880e-4d7b-de51-6a133c8b7916"
      },
      "outputs": [
        {
          "name": "stdout",
          "output_type": "stream",
          "text": [
            "Ваш девайс: cuda\n"
          ]
        }
      ],
      "source": [
        "DEVICE = torch.device(\"cuda\" if torch.cuda.is_available() else \"cpu\")\n",
        "print(\"Ваш девайс: {}\".format(DEVICE))"
      ]
    },
    {
      "cell_type": "code",
      "execution_count": null,
      "id": "c6603106-5781-4eb7-b139-3d16a9b02bfd",
      "metadata": {
        "id": "c6603106-5781-4eb7-b139-3d16a9b02bfd",
        "outputId": "d5c643c8-ce3e-47ea-d7ee-47f13facb587"
      },
      "outputs": [
        {
          "name": "stdout",
          "output_type": "stream",
          "text": [
            "Mon Oct 14 14:51:12 2024       \n",
            "+-----------------------------------------------------------------------------------------+\n",
            "| NVIDIA-SMI 565.51.01              Driver Version: 565.90         CUDA Version: 12.7     |\n",
            "|-----------------------------------------+------------------------+----------------------+\n",
            "| GPU  Name                 Persistence-M | Bus-Id          Disp.A | Volatile Uncorr. ECC |\n",
            "| Fan  Temp   Perf          Pwr:Usage/Cap |           Memory-Usage | GPU-Util  Compute M. |\n",
            "|                                         |                        |               MIG M. |\n",
            "|=========================================+========================+======================|\n",
            "|   0  NVIDIA GeForce RTX 3060 Ti     On  |   00000000:01:00.0  On |                  N/A |\n",
            "|  0%   40C    P8             20W /  200W |     951MiB /   8192MiB |      6%      Default |\n",
            "|                                         |                        |                  N/A |\n",
            "+-----------------------------------------+------------------------+----------------------+\n",
            "                                                                                         \n",
            "+-----------------------------------------------------------------------------------------+\n",
            "| Processes:                                                                              |\n",
            "|  GPU   GI   CI        PID   Type   Process name                              GPU Memory |\n",
            "|        ID   ID                                                               Usage      |\n",
            "|=========================================================================================|\n",
            "|    0   N/A  N/A        30      G   /Xwayland                                   N/A      |\n",
            "+-----------------------------------------------------------------------------------------+\n"
          ]
        }
      ],
      "source": [
        "!nvidia-smi"
      ]
    },
    {
      "cell_type": "markdown",
      "id": "4c1108b6-e1f5-4913-a76a-647eec09cefe",
      "metadata": {
        "id": "4c1108b6-e1f5-4913-a76a-647eec09cefe"
      },
      "source": [
        "# Установка seed-ов"
      ]
    },
    {
      "cell_type": "code",
      "execution_count": null,
      "id": "30503c94-a1ee-451e-9117-6751c95b5023",
      "metadata": {
        "id": "30503c94-a1ee-451e-9117-6751c95b5023"
      },
      "outputs": [],
      "source": [
        "seed = 42\n",
        "torch.manual_seed(seed)\n",
        "torch.cuda.manual_seed(seed)\n",
        "torch.cuda.manual_seed_all(seed)\n",
        "np.random.seed(seed)\n",
        "random.seed(seed)\n",
        "torch.backends.cudnn.benchmark = False\n",
        "torch.backends.cudnn.deterministic = True"
      ]
    },
    {
      "cell_type": "markdown",
      "id": "d4d20d86-9014-4034-b2b7-7b24ba9829fd",
      "metadata": {
        "id": "d4d20d86-9014-4034-b2b7-7b24ba9829fd"
      },
      "source": [
        "# Загрузка датасета"
      ]
    },
    {
      "cell_type": "code",
      "execution_count": null,
      "id": "b3fc48dc-c6ae-4fcf-9d70-e312afe9ae0a",
      "metadata": {
        "id": "b3fc48dc-c6ae-4fcf-9d70-e312afe9ae0a",
        "outputId": "07f3f4f8-2283-4979-8070-5b4cb7501105"
      },
      "outputs": [
        {
          "name": "stdout",
          "output_type": "stream",
          "text": [
            "Downloading...\n",
            "From: https://drive.google.com/uc?id=1oU4WZnxmOwp2isH6Sv9yAk2C_48EJQhh\n",
            "To: /home/dmitry/rl/study/dataset.csv\n",
            "100%|██████████████████████████████████████| 13.3M/13.3M [00:00<00:00, 20.8MB/s]\n"
          ]
        }
      ],
      "source": [
        "!gdown \"https://drive.google.com/uc?id=1oU4WZnxmOwp2isH6Sv9yAk2C_48EJQhh\" -O dataset.csv"
      ]
    },
    {
      "cell_type": "markdown",
      "id": "1935d53d-7472-4218-83d5-5626e4ab86ed",
      "metadata": {
        "id": "1935d53d-7472-4218-83d5-5626e4ab86ed"
      },
      "source": [
        "# Обработка данных"
      ]
    },
    {
      "cell_type": "code",
      "execution_count": null,
      "id": "50878005-8eda-4d2f-9f20-d8d07cabfcbb",
      "metadata": {
        "id": "50878005-8eda-4d2f-9f20-d8d07cabfcbb",
        "outputId": "aff40d6f-8cff-4b60-b40b-21af78b45bf2"
      },
      "outputs": [
        {
          "data": {
            "text/plain": [
              "(59889, 3)"
            ]
          },
          "execution_count": 34,
          "metadata": {},
          "output_type": "execute_result"
        }
      ],
      "source": [
        "dataset = pd.read_csv(\"dataset.csv\")\n",
        "dataset.shape"
      ]
    },
    {
      "cell_type": "code",
      "execution_count": null,
      "id": "9af80f43-72c0-4b94-99c1-60ae05061720",
      "metadata": {
        "id": "9af80f43-72c0-4b94-99c1-60ae05061720",
        "outputId": "73523f9c-d63c-4ad8-d6a4-015f56a3735d"
      },
      "outputs": [
        {
          "data": {
            "text/html": [
              "<div>\n",
              "<style scoped>\n",
              "    .dataframe tbody tr th:only-of-type {\n",
              "        vertical-align: middle;\n",
              "    }\n",
              "\n",
              "    .dataframe tbody tr th {\n",
              "        vertical-align: top;\n",
              "    }\n",
              "\n",
              "    .dataframe thead th {\n",
              "        text-align: right;\n",
              "    }\n",
              "</style>\n",
              "<table border=\"1\" class=\"dataframe\">\n",
              "  <thead>\n",
              "    <tr style=\"text-align: right;\">\n",
              "      <th></th>\n",
              "      <th>id</th>\n",
              "      <th>public_petition_text</th>\n",
              "      <th>reason_category</th>\n",
              "    </tr>\n",
              "  </thead>\n",
              "  <tbody>\n",
              "    <tr>\n",
              "      <th>0</th>\n",
              "      <td>3168490</td>\n",
              "      <td>снег на дороге</td>\n",
              "      <td>Благоустройство</td>\n",
              "    </tr>\n",
              "    <tr>\n",
              "      <th>1</th>\n",
              "      <td>3219678</td>\n",
              "      <td>очистить кабельный киоск от рекламы</td>\n",
              "      <td>Благоустройство</td>\n",
              "    </tr>\n",
              "    <tr>\n",
              "      <th>2</th>\n",
              "      <td>2963920</td>\n",
              "      <td>Просим убрать все деревья и кустарники, которы...</td>\n",
              "      <td>Благоустройство</td>\n",
              "    </tr>\n",
              "    <tr>\n",
              "      <th>3</th>\n",
              "      <td>3374910</td>\n",
              "      <td>Неудовлетворительное состояние парадной - надп...</td>\n",
              "      <td>Содержание МКД</td>\n",
              "    </tr>\n",
              "    <tr>\n",
              "      <th>4</th>\n",
              "      <td>3336285</td>\n",
              "      <td>Граффити</td>\n",
              "      <td>Благоустройство</td>\n",
              "    </tr>\n",
              "  </tbody>\n",
              "</table>\n",
              "</div>"
            ],
            "text/plain": [
              "        id                               public_petition_text  reason_category\n",
              "0  3168490                                     снег на дороге  Благоустройство\n",
              "1  3219678                очистить кабельный киоск от рекламы  Благоустройство\n",
              "2  2963920  Просим убрать все деревья и кустарники, которы...  Благоустройство\n",
              "3  3374910  Неудовлетворительное состояние парадной - надп...   Содержание МКД\n",
              "4  3336285                                           Граффити  Благоустройство"
            ]
          },
          "execution_count": 35,
          "metadata": {},
          "output_type": "execute_result"
        }
      ],
      "source": [
        "dataset.head()"
      ]
    },
    {
      "cell_type": "code",
      "execution_count": null,
      "id": "1ed4dff0-02ec-49b1-9704-5e07a63ddb2f",
      "metadata": {
        "id": "1ed4dff0-02ec-49b1-9704-5e07a63ddb2f",
        "outputId": "f4997bd9-8980-4b4d-ff09-61aa414a6274"
      },
      "outputs": [
        {
          "data": {
            "text/plain": [
              "15"
            ]
          },
          "execution_count": 36,
          "metadata": {},
          "output_type": "execute_result"
        }
      ],
      "source": [
        "dataset[\"reason_category\"].nunique() # Количество уникальных категорий"
      ]
    },
    {
      "cell_type": "code",
      "execution_count": null,
      "id": "472fada4-3dd8-4cf8-9722-7516cc34e50e",
      "metadata": {
        "id": "472fada4-3dd8-4cf8-9722-7516cc34e50e",
        "outputId": "687f7c8e-205a-4da7-ba83-ff0cae192057"
      },
      "outputs": [
        {
          "data": {
            "text/plain": [
              "array(['Благоустройство', 'Содержание МКД',\n",
              "       'Незаконная информационная и (или) рекламная конструкция', 'Фасад',\n",
              "       'Водоснабжение', 'Нарушение правил пользования общим имуществом',\n",
              "       'Повреждения или неисправность элементов уличной инфраструктуры',\n",
              "       'Кровля', 'Состояние рекламных или информационных конструкций',\n",
              "       'Нарушение порядка пользования общим имуществом', 'Подвалы',\n",
              "       'Водоотведение', 'Санитарное состояние', 'Центральное отопление',\n",
              "       'Незаконная реализация товаров с торгового оборудования (прилавок, ящик, с земли)'],\n",
              "      dtype=object)"
            ]
          },
          "execution_count": 37,
          "metadata": {},
          "output_type": "execute_result"
        }
      ],
      "source": [
        "dataset[\"reason_category\"].unique() # Уникальные категории"
      ]
    },
    {
      "cell_type": "code",
      "execution_count": null,
      "id": "4dbe9785-17dc-48ba-bd27-1bb6093988cd",
      "metadata": {
        "id": "4dbe9785-17dc-48ba-bd27-1bb6093988cd",
        "outputId": "3851bd45-6b10-4c7f-82e0-97554fd739c4"
      },
      "outputs": [
        {
          "data": {
            "text/plain": [
              "Благоустройство                                                                     34769\n",
              "Содержание МКД                                                                      14461\n",
              "Нарушение правил пользования общим имуществом                                        2170\n",
              "Незаконная информационная и (или) рекламная конструкция                              1831\n",
              "Фасад                                                                                1483\n",
              "Повреждения или неисправность элементов уличной инфраструктуры                       1164\n",
              "Кровля                                                                                825\n",
              "Водоснабжение                                                                         809\n",
              "Состояние рекламных или информационных конструкций                                    673\n",
              "Санитарное состояние                                                                  434\n",
              "Центральное отопление                                                                 284\n",
              "Подвалы                                                                               254\n",
              "Незаконная реализация товаров с торгового оборудования (прилавок, ящик, с земли)      251\n",
              "Нарушение порядка пользования общим имуществом                                        243\n",
              "Водоотведение                                                                         238\n",
              "Name: reason_category, dtype: int64"
            ]
          },
          "execution_count": 38,
          "metadata": {},
          "output_type": "execute_result"
        }
      ],
      "source": [
        "dataset[\"reason_category\"].value_counts()"
      ]
    },
    {
      "cell_type": "code",
      "execution_count": null,
      "id": "7eed0b89-ce37-47c6-a8fd-c95fa79ba924",
      "metadata": {
        "id": "7eed0b89-ce37-47c6-a8fd-c95fa79ba924"
      },
      "outputs": [],
      "source": [
        "# Отделение данных и целевой переменной\n",
        "X = dataset[\"public_petition_text\"].map(lambda x: x.lower()).values\n",
        "y = dataset[\"reason_category\"].map(lambda x: x.lower())"
      ]
    },
    {
      "cell_type": "code",
      "execution_count": null,
      "id": "65e16dca-eb45-4da4-ae10-9743e7759951",
      "metadata": {
        "id": "65e16dca-eb45-4da4-ae10-9743e7759951"
      },
      "outputs": [],
      "source": [
        "id2label: dict = {index: label for index, label in enumerate(y.unique())}\n",
        "label2id: dict = {label: index for index, label in id2label.items()}"
      ]
    },
    {
      "cell_type": "markdown",
      "id": "31e82f0c-8015-4b06-aa45-10716fbc698f",
      "metadata": {
        "id": "31e82f0c-8015-4b06-aa45-10716fbc698f"
      },
      "source": [
        "# Предварительная обработка каждого объекта"
      ]
    },
    {
      "cell_type": "code",
      "execution_count": null,
      "id": "ccd795bc-ebdf-4d82-8a2f-940a992f52a6",
      "metadata": {
        "id": "ccd795bc-ebdf-4d82-8a2f-940a992f52a6"
      },
      "outputs": [],
      "source": [
        "NLP = spacy.load('ru_core_news_md')\n",
        "STOP_WORDS: set = set(stopwords.words(\"russian\"))"
      ]
    },
    {
      "cell_type": "code",
      "execution_count": null,
      "id": "4ecfb958-9816-4209-8411-2e1bcedaca35",
      "metadata": {
        "id": "4ecfb958-9816-4209-8411-2e1bcedaca35"
      },
      "outputs": [],
      "source": [
        "cleaned_petitions = [\n",
        "    [re.sub(r'[^а-яА-Я\\s]', '', word) for word in text.split()]\n",
        "    for text in X\n",
        "]\n",
        "\n",
        "cleaned_petitions = [[word for word in text if word != \"\"] for text in cleaned_petitions]\n",
        "\n",
        "text_tokens = [\n",
        "    [word.lemma_ for word in NLP(\" \".join(text)) if word.lemma_ not in STOP_WORDS]\n",
        "    for text in cleaned_petitions\n",
        "]"
      ]
    },
    {
      "cell_type": "code",
      "execution_count": null,
      "id": "663a179d-5cb6-4bfe-9342-3ab71587fb73",
      "metadata": {
        "id": "663a179d-5cb6-4bfe-9342-3ab71587fb73",
        "outputId": "a4b5eb0f-c28b-42e0-ff4b-80a4da0b9f7a"
      },
      "outputs": [
        {
          "name": "stdout",
          "output_type": "stream",
          "text": [
            "Исходный текст:\n",
            "очистить кабельный киоск от рекламы\n",
            "\n",
            "Полученный список:\n",
            "['очистить', 'кабельный', 'киоск', 'реклама']\n"
          ]
        }
      ],
      "source": [
        "print(\"Исходный текст:\\n{0}\\n\\nПолученный список:\\n{1}\".format(X[1], text_tokens[1]))"
      ]
    },
    {
      "cell_type": "markdown",
      "id": "bbed411e-4261-4df6-8c88-51867456df42",
      "metadata": {
        "id": "bbed411e-4261-4df6-8c88-51867456df42"
      },
      "source": [
        "# Векторизация"
      ]
    },
    {
      "cell_type": "markdown",
      "id": "0d7c64b5-9c0d-40ed-be88-565b56c716d6",
      "metadata": {
        "id": "0d7c64b5-9c0d-40ed-be88-565b56c716d6"
      },
      "source": [
        "https://neptune.ai/blog/vectorization-techniques-in-nlp-guide"
      ]
    },
    {
      "cell_type": "code",
      "execution_count": null,
      "id": "ae5eaba3-abae-4d28-a977-e24d2d22d220",
      "metadata": {
        "id": "ae5eaba3-abae-4d28-a977-e24d2d22d220",
        "outputId": "65974c77-4697-4468-96d1-f290eb6be224"
      },
      "outputs": [
        {
          "name": "stdout",
          "output_type": "stream",
          "text": [
            "The history saving thread hit an unexpected error (OperationalError('attempt to write a readonly database')).History will not be written to the database.\n"
          ]
        }
      ],
      "source": [
        "from tensorflow.keras.preprocessing.text import Tokenizer\n",
        "from tensorflow.keras.preprocessing.sequence import pad_sequences"
      ]
    },
    {
      "cell_type": "code",
      "execution_count": null,
      "id": "2d2a5014-86de-488b-8234-1242e556e69f",
      "metadata": {
        "id": "2d2a5014-86de-488b-8234-1242e556e69f"
      },
      "outputs": [],
      "source": [
        "MAX_NUM_WORDS: int = 1000 # максимальное количество уникальных слов\n",
        "MAX_SEQUENCE_LENGTH: int = 20 # максимальную длина последовательности"
      ]
    },
    {
      "cell_type": "code",
      "execution_count": null,
      "id": "3e72464a-06b8-40af-917b-45e3cff1376d",
      "metadata": {
        "id": "3e72464a-06b8-40af-917b-45e3cff1376d"
      },
      "outputs": [],
      "source": [
        "tokenizer = Tokenizer(num_words=MAX_NUM_WORDS)\n",
        "tokenizer.fit_on_texts(text_tokens)\n",
        "sequences = tokenizer.texts_to_sequences(text_tokens)\n",
        "\n",
        "word_index = tokenizer.word_index\n",
        "data = pad_sequences(sequences, maxlen=MAX_SEQUENCE_LENGTH)"
      ]
    },
    {
      "cell_type": "markdown",
      "id": "19db44fa-c085-4eb6-a0d3-15554b71797d",
      "metadata": {
        "id": "19db44fa-c085-4eb6-a0d3-15554b71797d"
      },
      "source": [
        "# Формирование выборок"
      ]
    },
    {
      "cell_type": "code",
      "execution_count": null,
      "id": "2d57dc84-7f41-42ae-bf59-14de11246572",
      "metadata": {
        "id": "2d57dc84-7f41-42ae-bf59-14de11246572"
      },
      "outputs": [],
      "source": [
        "from sklearn.model_selection import train_test_split"
      ]
    },
    {
      "cell_type": "code",
      "execution_count": null,
      "id": "5c85fb1c-7dd8-4273-810c-7913fd121f13",
      "metadata": {
        "id": "5c85fb1c-7dd8-4273-810c-7913fd121f13"
      },
      "outputs": [],
      "source": [
        "TEST_SPLIT: float = 0.2"
      ]
    },
    {
      "cell_type": "code",
      "execution_count": null,
      "id": "7fbfc9d0-88d0-40d3-b0e2-af4db5d5b71f",
      "metadata": {
        "id": "7fbfc9d0-88d0-40d3-b0e2-af4db5d5b71f"
      },
      "outputs": [],
      "source": [
        "y = y.map(label2id).values"
      ]
    },
    {
      "cell_type": "code",
      "execution_count": null,
      "id": "31f8ee18-844b-453f-98b6-28549e319499",
      "metadata": {
        "id": "31f8ee18-844b-453f-98b6-28549e319499"
      },
      "outputs": [],
      "source": [
        "X_train, X_temp, y_train, y_temp = train_test_split(\n",
        "    data,\n",
        "    y,\n",
        "    test_size=TEST_SPLIT,\n",
        "    random_state=seed,\n",
        ")\n",
        "\n",
        "X_val, X_test, y_val, y_test = train_test_split(\n",
        "    X_temp,\n",
        "    y_temp,\n",
        "    test_size=TEST_SPLIT,\n",
        "    random_state=seed,\n",
        ")"
      ]
    },
    {
      "cell_type": "code",
      "execution_count": null,
      "id": "2d9f619d-0724-4364-aa8e-10fe4c1e5345",
      "metadata": {
        "id": "2d9f619d-0724-4364-aa8e-10fe4c1e5345",
        "outputId": "26112634-b23b-4be4-b937-bcb214933e69"
      },
      "outputs": [
        {
          "name": "stdout",
          "output_type": "stream",
          "text": [
            "Размеры выборок:\n",
            "Обучающая выборка: (47911, 20) (47911,)\n",
            "Валидационная выборка: (9582, 20) (9582,)\n",
            "Тестовая выборка: (2396, 20) (2396,)\n"
          ]
        }
      ],
      "source": [
        "print(\"Размеры выборок:\")\n",
        "print(\"Обучающая выборка:\", X_train.shape, y_train.shape)\n",
        "print(\"Валидационная выборка:\", X_val.shape, y_val.shape)\n",
        "print(\"Тестовая выборка:\", X_test.shape, y_test.shape)"
      ]
    },
    {
      "cell_type": "markdown",
      "id": "551308a0-4c12-42f5-9073-21aa3bb293fa",
      "metadata": {
        "id": "551308a0-4c12-42f5-9073-21aa3bb293fa"
      },
      "source": [
        "# Создание Tensor датасетов"
      ]
    },
    {
      "cell_type": "code",
      "execution_count": null,
      "id": "2a1dc4cb-7e80-46b0-97bf-58b9d9f92da5",
      "metadata": {
        "id": "2a1dc4cb-7e80-46b0-97bf-58b9d9f92da5"
      },
      "outputs": [],
      "source": [
        "from torch.utils.data import DataLoader, TensorDataset"
      ]
    },
    {
      "cell_type": "code",
      "execution_count": null,
      "id": "e667a421-587d-4e48-9865-682e9bc7461a",
      "metadata": {
        "id": "e667a421-587d-4e48-9865-682e9bc7461a"
      },
      "outputs": [],
      "source": [
        "BATCH_SIZE: int = 32\n",
        "NUM_WORKERS: int = 11"
      ]
    },
    {
      "cell_type": "code",
      "execution_count": null,
      "id": "8cd94c93-0dac-4e2e-af94-5c20681209ec",
      "metadata": {
        "id": "8cd94c93-0dac-4e2e-af94-5c20681209ec"
      },
      "outputs": [],
      "source": [
        "X_train_tensor = torch.IntTensor(X_train)\n",
        "y_train_tensor = torch.IntTensor(y_train)\n",
        "X_val_tensor = torch.IntTensor(X_val)\n",
        "y_val_tensor = torch.IntTensor(y_val)\n",
        "X_test_tensor = torch.IntTensor(X_test)\n",
        "y_test_tensor = torch.IntTensor(y_test)"
      ]
    },
    {
      "cell_type": "code",
      "execution_count": null,
      "id": "407b6405-e662-4c0d-95db-3f0df637e69d",
      "metadata": {
        "id": "407b6405-e662-4c0d-95db-3f0df637e69d"
      },
      "outputs": [],
      "source": [
        "train_dataset = TensorDataset(X_train_tensor, y_train_tensor)\n",
        "val_dataset = TensorDataset(X_val_tensor, y_val_tensor)\n",
        "test_dataset = TensorDataset(X_test_tensor, y_test_tensor)\n",
        "\n",
        "train_dataloader = DataLoader(\n",
        "    dataset=train_dataset,\n",
        "    batch_size=BATCH_SIZE,\n",
        "    shuffle=True,\n",
        "    num_workers=11,\n",
        ")\n",
        "\n",
        "val_dataloader = DataLoader(\n",
        "    dataset=val_dataset,\n",
        "    batch_size=1,\n",
        "    shuffle=False,\n",
        "    num_workers=NUM_WORKERS,\n",
        ")\n",
        "\n",
        "test_dataloader = DataLoader(\n",
        "    dataset=test_dataset,\n",
        "    batch_size=1,\n",
        "    shuffle=False,\n",
        "    num_workers=NUM_WORKERS,\n",
        ")\n"
      ]
    },
    {
      "cell_type": "code",
      "execution_count": null,
      "id": "5f9ef3ad-9c12-41ca-84a5-92aab50d4541",
      "metadata": {
        "id": "5f9ef3ad-9c12-41ca-84a5-92aab50d4541",
        "outputId": "db80a54d-3d34-4ca4-e6c9-28603d0a704f"
      },
      "outputs": [
        {
          "name": "stdout",
          "output_type": "stream",
          "text": [
            "tensor([  0,   0,   0,   0,   0,   0,  21,  62,  36, 150, 171,  12,  69,  45,\n",
            "          8, 134,  81, 108,  56,  91]) tensor(0)\n"
          ]
        }
      ],
      "source": [
        "sample = next(iter(train_dataloader))\n",
        "print(sample[0][0], sample[1][0])"
      ]
    },
    {
      "cell_type": "markdown",
      "id": "7da870ba-4c1f-43b6-86ae-61d0a8e2e19c",
      "metadata": {
        "id": "7da870ba-4c1f-43b6-86ae-61d0a8e2e19c"
      },
      "source": [
        "# Создание моделей"
      ]
    },
    {
      "cell_type": "code",
      "execution_count": null,
      "id": "d90b3c04-27d9-4513-8718-b713b7030a75",
      "metadata": {
        "id": "d90b3c04-27d9-4513-8718-b713b7030a75"
      },
      "outputs": [],
      "source": [
        "import pytorch_lightning as pl\n",
        "from pytorch_lightning import Trainer\n",
        "import torch.nn as nn\n",
        "import torch.nn.functional as F"
      ]
    },
    {
      "cell_type": "code",
      "execution_count": null,
      "id": "a719561a-c26c-49d2-9ba3-163f0f733d9d",
      "metadata": {
        "id": "a719561a-c26c-49d2-9ba3-163f0f733d9d"
      },
      "outputs": [],
      "source": [
        "NUM_EPOCHS = 10\n",
        "HIDDEN_DIM = 128\n",
        "NUM_CLASSES = len(id2label)\n",
        "EMBEDDING_DIM = 200\n",
        "VOCAB_SIZE = len(tokenizer.word_index) + 1"
      ]
    },
    {
      "cell_type": "markdown",
      "id": "933b76fa-877b-451f-bcfb-daa4610a8e3a",
      "metadata": {
        "id": "933b76fa-877b-451f-bcfb-daa4610a8e3a"
      },
      "source": [
        "## RNN"
      ]
    },
    {
      "cell_type": "code",
      "execution_count": null,
      "id": "dda567e4-fd50-493a-b01e-6277f84bf2a8",
      "metadata": {
        "id": "dda567e4-fd50-493a-b01e-6277f84bf2a8"
      },
      "outputs": [],
      "source": [
        "class RNNModel(pl.LightningModule):\n",
        "    def __init__(self, vocab_size, embedding_dim, hidden_dim, num_classes):\n",
        "        super(RNNModel, self).__init__()\n",
        "        self.embedding = nn.Embedding(vocab_size, embedding_dim)\n",
        "        self.rnn = nn.RNN(embedding_dim, hidden_dim, batch_first=True)\n",
        "        self.fc = nn.Linear(hidden_dim, num_classes)\n",
        "\n",
        "        self.init_weights()\n",
        "\n",
        "    def forward(self, x):\n",
        "        x = self.embedding(x)\n",
        "        x, _ = self.rnn(x)\n",
        "        x = x[:, -1, :]\n",
        "        x = self.fc(x)\n",
        "        return x\n",
        "\n",
        "    def configure_optimizers(self):\n",
        "        optimizer = torch.optim.Adam(self.parameters(), lr=1e-3)\n",
        "        return optimizer\n",
        "\n",
        "    def training_step(self, train_batch, batch_idx):\n",
        "        x, y = train_batch\n",
        "        y_hat = self(x)\n",
        "        loss = F.cross_entropy(y_hat, y)\n",
        "        self.log(\"train_loss\", loss)\n",
        "\n",
        "        acc = self.calculate_accuracy(y_hat, y)\n",
        "        self.log(\"train_accuracy\", acc)\n",
        "\n",
        "        return loss\n",
        "\n",
        "    def validation_step(self, val_batch, batch_idx):\n",
        "        x, y = val_batch\n",
        "        y_hat = self(x)\n",
        "        loss = F.cross_entropy(y_hat, y)\n",
        "        self.log(\"val_loss\", loss)\n",
        "\n",
        "        acc = self.calculate_accuracy(y_hat, y)\n",
        "        self.log(\"val_accuracy\", acc)\n",
        "\n",
        "    def test_step(self, test_batch, batch_idx):\n",
        "        x, y = test_batch\n",
        "        y_hat = self(x)\n",
        "        loss = F.cross_entropy(y_hat, y)\n",
        "        self.log(\"test_loss\", loss)\n",
        "\n",
        "        acc = self.calculate_accuracy(y_hat, y)\n",
        "        self.log(\"test_accuracy\", acc)\n",
        "\n",
        "    def init_weights(self):\n",
        "        for name, param in self.named_parameters():\n",
        "            if \"weight\" in name:\n",
        "                nn.init.xavier_uniform_(param)\n",
        "            if \"bias\" in name:\n",
        "                nn.init.zeros_(param)\n",
        "\n",
        "    def calculate_accuracy(self, y_hat, y):\n",
        "        preds = torch.argmax(y_hat, dim=1)\n",
        "        correct = (preds == y).sum().item()\n",
        "        acc = correct / y.size(0)\n",
        "        return acc"
      ]
    },
    {
      "cell_type": "code",
      "execution_count": null,
      "id": "c8ceb242-c436-44b3-a165-6d947cd1655d",
      "metadata": {
        "id": "c8ceb242-c436-44b3-a165-6d947cd1655d"
      },
      "outputs": [],
      "source": [
        "rnn_model = RNNModel(\n",
        "    vocab_size=VOCAB_SIZE,\n",
        "    embedding_dim=EMBEDDING_DIM,\n",
        "    hidden_dim=HIDDEN_DIM,\n",
        "    num_classes=NUM_CLASSES\n",
        ").to(DEVICE)"
      ]
    },
    {
      "cell_type": "code",
      "execution_count": null,
      "id": "e53d7c40-84db-45c4-868b-6df7c8ae9fab",
      "metadata": {
        "id": "e53d7c40-84db-45c4-868b-6df7c8ae9fab",
        "outputId": "45ece4d0-db63-421a-c3e5-4e0383bab780"
      },
      "outputs": [
        {
          "name": "stderr",
          "output_type": "stream",
          "text": [
            "GPU available: True (cuda), used: True\n",
            "TPU available: False, using: 0 TPU cores\n",
            "HPU available: False, using: 0 HPUs\n"
          ]
        }
      ],
      "source": [
        "rnn_trainer = Trainer(\n",
        "    max_epochs=NUM_EPOCHS,\n",
        "    accelerator=\"gpu\"\n",
        ")"
      ]
    },
    {
      "cell_type": "code",
      "execution_count": null,
      "id": "16b27b28-ccd0-4ec7-b77f-ee552300cd71",
      "metadata": {
        "id": "16b27b28-ccd0-4ec7-b77f-ee552300cd71",
        "outputId": "df59a128-c439-4e05-9bd7-8f9f2eb823ef",
        "colab": {
          "referenced_widgets": [
            "",
            "57f7a06c58584a1f9d519ca9009dd374"
          ]
        }
      },
      "outputs": [
        {
          "name": "stderr",
          "output_type": "stream",
          "text": [
            "LOCAL_RANK: 0 - CUDA_VISIBLE_DEVICES: [0]\n",
            "\n",
            "  | Name      | Type      | Params | Mode \n",
            "------------------------------------------------\n",
            "0 | embedding | Embedding | 5.0 M  | train\n",
            "1 | rnn       | RNN       | 42.2 K | train\n",
            "2 | fc        | Linear    | 1.9 K  | train\n",
            "------------------------------------------------\n",
            "5.1 M     Trainable params\n",
            "0         Non-trainable params\n",
            "5.1 M     Total params\n",
            "20.222    Total estimated model params size (MB)\n",
            "3         Modules in train mode\n",
            "0         Modules in eval mode\n"
          ]
        },
        {
          "data": {
            "application/vnd.jupyter.widget-view+json": {
              "model_id": "",
              "version_major": 2,
              "version_minor": 0
            },
            "text/plain": [
              "Sanity Checking: |                                                                                | 0/? [00:00…"
            ]
          },
          "metadata": {},
          "output_type": "display_data"
        },
        {
          "data": {
            "application/vnd.jupyter.widget-view+json": {
              "model_id": "57f7a06c58584a1f9d519ca9009dd374",
              "version_major": 2,
              "version_minor": 0
            },
            "text/plain": [
              "Training: |                                                                                       | 0/? [00:00…"
            ]
          },
          "metadata": {},
          "output_type": "display_data"
        },
        {
          "data": {
            "application/vnd.jupyter.widget-view+json": {
              "model_id": "",
              "version_major": 2,
              "version_minor": 0
            },
            "text/plain": [
              "Validation: |                                                                                     | 0/? [00:00…"
            ]
          },
          "metadata": {},
          "output_type": "display_data"
        },
        {
          "data": {
            "application/vnd.jupyter.widget-view+json": {
              "model_id": "",
              "version_major": 2,
              "version_minor": 0
            },
            "text/plain": [
              "Validation: |                                                                                     | 0/? [00:00…"
            ]
          },
          "metadata": {},
          "output_type": "display_data"
        },
        {
          "data": {
            "application/vnd.jupyter.widget-view+json": {
              "model_id": "",
              "version_major": 2,
              "version_minor": 0
            },
            "text/plain": [
              "Validation: |                                                                                     | 0/? [00:00…"
            ]
          },
          "metadata": {},
          "output_type": "display_data"
        },
        {
          "data": {
            "application/vnd.jupyter.widget-view+json": {
              "model_id": "",
              "version_major": 2,
              "version_minor": 0
            },
            "text/plain": [
              "Validation: |                                                                                     | 0/? [00:00…"
            ]
          },
          "metadata": {},
          "output_type": "display_data"
        },
        {
          "data": {
            "application/vnd.jupyter.widget-view+json": {
              "model_id": "",
              "version_major": 2,
              "version_minor": 0
            },
            "text/plain": [
              "Validation: |                                                                                     | 0/? [00:00…"
            ]
          },
          "metadata": {},
          "output_type": "display_data"
        },
        {
          "data": {
            "application/vnd.jupyter.widget-view+json": {
              "model_id": "",
              "version_major": 2,
              "version_minor": 0
            },
            "text/plain": [
              "Validation: |                                                                                     | 0/? [00:00…"
            ]
          },
          "metadata": {},
          "output_type": "display_data"
        },
        {
          "data": {
            "application/vnd.jupyter.widget-view+json": {
              "model_id": "",
              "version_major": 2,
              "version_minor": 0
            },
            "text/plain": [
              "Validation: |                                                                                     | 0/? [00:00…"
            ]
          },
          "metadata": {},
          "output_type": "display_data"
        },
        {
          "data": {
            "application/vnd.jupyter.widget-view+json": {
              "model_id": "",
              "version_major": 2,
              "version_minor": 0
            },
            "text/plain": [
              "Validation: |                                                                                     | 0/? [00:00…"
            ]
          },
          "metadata": {},
          "output_type": "display_data"
        },
        {
          "data": {
            "application/vnd.jupyter.widget-view+json": {
              "model_id": "",
              "version_major": 2,
              "version_minor": 0
            },
            "text/plain": [
              "Validation: |                                                                                     | 0/? [00:00…"
            ]
          },
          "metadata": {},
          "output_type": "display_data"
        },
        {
          "data": {
            "application/vnd.jupyter.widget-view+json": {
              "model_id": "",
              "version_major": 2,
              "version_minor": 0
            },
            "text/plain": [
              "Validation: |                                                                                     | 0/? [00:00…"
            ]
          },
          "metadata": {},
          "output_type": "display_data"
        },
        {
          "name": "stderr",
          "output_type": "stream",
          "text": [
            "`Trainer.fit` stopped: `max_epochs=10` reached.\n"
          ]
        }
      ],
      "source": [
        "rnn_trainer.fit(rnn_model, train_dataloader, val_dataloader)"
      ]
    },
    {
      "cell_type": "code",
      "execution_count": null,
      "id": "d4ddbd1d-7434-44b8-bcbd-8c68e963cfee",
      "metadata": {
        "id": "d4ddbd1d-7434-44b8-bcbd-8c68e963cfee",
        "outputId": "3b13f798-ba20-4aa3-999d-491a2cbc8874",
        "colab": {
          "referenced_widgets": [
            "c698c49fd64341deb75bcbbe6f585578"
          ]
        }
      },
      "outputs": [
        {
          "name": "stderr",
          "output_type": "stream",
          "text": [
            "LOCAL_RANK: 0 - CUDA_VISIBLE_DEVICES: [0]\n"
          ]
        },
        {
          "data": {
            "application/vnd.jupyter.widget-view+json": {
              "model_id": "c698c49fd64341deb75bcbbe6f585578",
              "version_major": 2,
              "version_minor": 0
            },
            "text/plain": [
              "Validation: |                                                                                     | 0/? [00:00…"
            ]
          },
          "metadata": {},
          "output_type": "display_data"
        },
        {
          "data": {
            "text/html": [
              "<pre style=\"white-space:pre;overflow-x:auto;line-height:normal;font-family:Menlo,'DejaVu Sans Mono',consolas,'Courier New',monospace\">┏━━━━━━━━━━━━━━━━━━━━━━━━━━━┳━━━━━━━━━━━━━━━━━━━━━━━━━━━┓\n",
              "┃<span style=\"font-weight: bold\">      Validate metric      </span>┃<span style=\"font-weight: bold\">       DataLoader 0        </span>┃\n",
              "┡━━━━━━━━━━━━━━━━━━━━━━━━━━━╇━━━━━━━━━━━━━━━━━━━━━━━━━━━┩\n",
              "│<span style=\"color: #008080; text-decoration-color: #008080\">       val_accuracy        </span>│<span style=\"color: #800080; text-decoration-color: #800080\">    0.9093091487884521     </span>│\n",
              "│<span style=\"color: #008080; text-decoration-color: #008080\">         val_loss          </span>│<span style=\"color: #800080; text-decoration-color: #800080\">    0.34252065420150757    </span>│\n",
              "└───────────────────────────┴───────────────────────────┘\n",
              "</pre>\n"
            ],
            "text/plain": [
              "┏━━━━━━━━━━━━━━━━━━━━━━━━━━━┳━━━━━━━━━━━━━━━━━━━━━━━━━━━┓\n",
              "┃\u001b[1m \u001b[0m\u001b[1m     Validate metric     \u001b[0m\u001b[1m \u001b[0m┃\u001b[1m \u001b[0m\u001b[1m      DataLoader 0       \u001b[0m\u001b[1m \u001b[0m┃\n",
              "┡━━━━━━━━━━━━━━━━━━━━━━━━━━━╇━━━━━━━━━━━━━━━━━━━━━━━━━━━┩\n",
              "│\u001b[36m \u001b[0m\u001b[36m      val_accuracy       \u001b[0m\u001b[36m \u001b[0m│\u001b[35m \u001b[0m\u001b[35m   0.9093091487884521    \u001b[0m\u001b[35m \u001b[0m│\n",
              "│\u001b[36m \u001b[0m\u001b[36m        val_loss         \u001b[0m\u001b[36m \u001b[0m│\u001b[35m \u001b[0m\u001b[35m   0.34252065420150757   \u001b[0m\u001b[35m \u001b[0m│\n",
              "└───────────────────────────┴───────────────────────────┘\n"
            ]
          },
          "metadata": {},
          "output_type": "display_data"
        },
        {
          "data": {
            "text/plain": [
              "[{'val_loss': 0.34252065420150757, 'val_accuracy': 0.9093091487884521}]"
            ]
          },
          "execution_count": 245,
          "metadata": {},
          "output_type": "execute_result"
        }
      ],
      "source": [
        "rnn_trainer.validate(rnn_model, val_dataloader)"
      ]
    },
    {
      "cell_type": "code",
      "execution_count": null,
      "id": "68128a41-9f65-49c3-9ced-6cc3a3c319f9",
      "metadata": {
        "id": "68128a41-9f65-49c3-9ced-6cc3a3c319f9",
        "outputId": "020efce4-587c-4003-bbd8-c391d5f1bfe8",
        "colab": {
          "referenced_widgets": [
            "e9756b335a864e9eaa9eee44606034df"
          ]
        }
      },
      "outputs": [
        {
          "name": "stderr",
          "output_type": "stream",
          "text": [
            "LOCAL_RANK: 0 - CUDA_VISIBLE_DEVICES: [0]\n"
          ]
        },
        {
          "data": {
            "application/vnd.jupyter.widget-view+json": {
              "model_id": "e9756b335a864e9eaa9eee44606034df",
              "version_major": 2,
              "version_minor": 0
            },
            "text/plain": [
              "Testing: |                                                                                        | 0/? [00:00…"
            ]
          },
          "metadata": {},
          "output_type": "display_data"
        },
        {
          "data": {
            "text/html": [
              "<pre style=\"white-space:pre;overflow-x:auto;line-height:normal;font-family:Menlo,'DejaVu Sans Mono',consolas,'Courier New',monospace\">┏━━━━━━━━━━━━━━━━━━━━━━━━━━━┳━━━━━━━━━━━━━━━━━━━━━━━━━━━┓\n",
              "┃<span style=\"font-weight: bold\">        Test metric        </span>┃<span style=\"font-weight: bold\">       DataLoader 0        </span>┃\n",
              "┡━━━━━━━━━━━━━━━━━━━━━━━━━━━╇━━━━━━━━━━━━━━━━━━━━━━━━━━━┩\n",
              "│<span style=\"color: #008080; text-decoration-color: #008080\">       test_accuracy       </span>│<span style=\"color: #800080; text-decoration-color: #800080\">    0.9015024900436401     </span>│\n",
              "│<span style=\"color: #008080; text-decoration-color: #008080\">         test_loss         </span>│<span style=\"color: #800080; text-decoration-color: #800080\">    0.3781214654445648     </span>│\n",
              "└───────────────────────────┴───────────────────────────┘\n",
              "</pre>\n"
            ],
            "text/plain": [
              "┏━━━━━━━━━━━━━━━━━━━━━━━━━━━┳━━━━━━━━━━━━━━━━━━━━━━━━━━━┓\n",
              "┃\u001b[1m \u001b[0m\u001b[1m       Test metric       \u001b[0m\u001b[1m \u001b[0m┃\u001b[1m \u001b[0m\u001b[1m      DataLoader 0       \u001b[0m\u001b[1m \u001b[0m┃\n",
              "┡━━━━━━━━━━━━━━━━━━━━━━━━━━━╇━━━━━━━━━━━━━━━━━━━━━━━━━━━┩\n",
              "│\u001b[36m \u001b[0m\u001b[36m      test_accuracy      \u001b[0m\u001b[36m \u001b[0m│\u001b[35m \u001b[0m\u001b[35m   0.9015024900436401    \u001b[0m\u001b[35m \u001b[0m│\n",
              "│\u001b[36m \u001b[0m\u001b[36m        test_loss        \u001b[0m\u001b[36m \u001b[0m│\u001b[35m \u001b[0m\u001b[35m   0.3781214654445648    \u001b[0m\u001b[35m \u001b[0m│\n",
              "└───────────────────────────┴───────────────────────────┘\n"
            ]
          },
          "metadata": {},
          "output_type": "display_data"
        },
        {
          "data": {
            "text/plain": [
              "[{'test_loss': 0.3781214654445648, 'test_accuracy': 0.9015024900436401}]"
            ]
          },
          "execution_count": 246,
          "metadata": {},
          "output_type": "execute_result"
        }
      ],
      "source": [
        "rnn_trainer.test(rnn_model, test_dataloader)"
      ]
    },
    {
      "cell_type": "markdown",
      "id": "c688ff70-bd09-4118-ac92-dce59748c4e5",
      "metadata": {
        "id": "c688ff70-bd09-4118-ac92-dce59748c4e5"
      },
      "source": [
        "## LSTM"
      ]
    },
    {
      "cell_type": "code",
      "execution_count": null,
      "id": "16ac905f-5494-4613-86af-f4fc3b4175f5",
      "metadata": {
        "id": "16ac905f-5494-4613-86af-f4fc3b4175f5"
      },
      "outputs": [],
      "source": [
        "class LSTMModel(pl.LightningModule):\n",
        "    def __init__(self, vocab_size, embedding_dim, hidden_dim, num_classes):\n",
        "        super(LSTMModel, self).__init__()\n",
        "        self.embedding = nn.Embedding(vocab_size, embedding_dim)\n",
        "        self.lstm = nn.LSTM(embedding_dim, hidden_dim, batch_first=True)\n",
        "        self.fc = nn.Linear(hidden_dim, num_classes)\n",
        "\n",
        "        self.init_weights()\n",
        "\n",
        "    def forward(self, x):\n",
        "        x = self.embedding(x)\n",
        "        x, _ = self.lstm(x)\n",
        "        x = x[:, -1, :]\n",
        "        x = self.fc(x)\n",
        "        return x\n",
        "\n",
        "    def configure_optimizers(self):\n",
        "        optimizer = torch.optim.Adam(self.parameters(), lr=1e-3)\n",
        "        return optimizer\n",
        "\n",
        "    def training_step(self, train_batch, batch_idx):\n",
        "        x, y = train_batch\n",
        "        y_hat = self(x)\n",
        "        loss = F.cross_entropy(y_hat, y)\n",
        "        self.log(\"train_loss\", loss)\n",
        "\n",
        "        acc = self.calculate_accuracy(y_hat, y)\n",
        "        self.log(\"train_accuracy\", acc)\n",
        "\n",
        "        return loss\n",
        "\n",
        "    def validation_step(self, val_batch, batch_idx):\n",
        "        x, y = val_batch\n",
        "        y_hat = self(x)\n",
        "        loss = F.cross_entropy(y_hat, y)\n",
        "        self.log(\"val_loss\", loss)\n",
        "\n",
        "        acc = self.calculate_accuracy(y_hat, y)\n",
        "        self.log(\"val_accuracy\", acc)\n",
        "\n",
        "    def test_step(self, test_batch, batch_idx):\n",
        "        x, y = test_batch\n",
        "        y_hat = self(x)\n",
        "        loss = F.cross_entropy(y_hat, y)\n",
        "        self.log(\"test_loss\", loss)\n",
        "\n",
        "        acc = self.calculate_accuracy(y_hat, y)\n",
        "        self.log(\"test_accuracy\", acc)\n",
        "\n",
        "    def init_weights(self):\n",
        "        for name, param in self.named_parameters():\n",
        "            if \"weight\" in name:\n",
        "                nn.init.xavier_uniform_(param)\n",
        "            if \"bias\" in name:\n",
        "                nn.init.zeros_(param)\n",
        "\n",
        "    def calculate_accuracy(self, y_hat, y):\n",
        "        preds = torch.argmax(y_hat, dim=1)\n",
        "        correct = (preds == y).sum().item()\n",
        "        acc = correct / y.size(0)\n",
        "        return acc"
      ]
    },
    {
      "cell_type": "code",
      "execution_count": null,
      "id": "0ae4cdeb-396c-42ee-85bb-f630fa64b563",
      "metadata": {
        "id": "0ae4cdeb-396c-42ee-85bb-f630fa64b563"
      },
      "outputs": [],
      "source": [
        "lstm_model = LSTMModel(\n",
        "    vocab_size=VOCAB_SIZE,\n",
        "    embedding_dim=EMBEDDING_DIM,\n",
        "    hidden_dim=HIDDEN_DIM,\n",
        "    num_classes=NUM_CLASSES\n",
        ").to(DEVICE)"
      ]
    },
    {
      "cell_type": "code",
      "execution_count": null,
      "id": "0ba07e29-0686-457b-937d-ed0f7ab692a7",
      "metadata": {
        "id": "0ba07e29-0686-457b-937d-ed0f7ab692a7",
        "outputId": "1d1d24d4-92cd-422a-ec8b-2074dc4d02b7"
      },
      "outputs": [
        {
          "name": "stderr",
          "output_type": "stream",
          "text": [
            "GPU available: True (cuda), used: True\n",
            "TPU available: False, using: 0 TPU cores\n",
            "HPU available: False, using: 0 HPUs\n"
          ]
        }
      ],
      "source": [
        "lstm_trainer = Trainer(\n",
        "    max_epochs=NUM_EPOCHS,\n",
        "    accelerator=\"gpu\"\n",
        ")"
      ]
    },
    {
      "cell_type": "code",
      "execution_count": null,
      "id": "5285f5bd-31eb-406e-a59a-c3ec37a7bd9a",
      "metadata": {
        "id": "5285f5bd-31eb-406e-a59a-c3ec37a7bd9a",
        "outputId": "f33e741a-aafa-454f-84aa-5388381701f7",
        "colab": {
          "referenced_widgets": [
            "",
            "48a9ffa558f0478795d3c99a503e741a"
          ]
        }
      },
      "outputs": [
        {
          "name": "stderr",
          "output_type": "stream",
          "text": [
            "LOCAL_RANK: 0 - CUDA_VISIBLE_DEVICES: [0]\n",
            "\n",
            "  | Name      | Type      | Params | Mode \n",
            "------------------------------------------------\n",
            "0 | embedding | Embedding | 5.0 M  | train\n",
            "1 | lstm      | LSTM      | 168 K  | train\n",
            "2 | fc        | Linear    | 1.9 K  | train\n",
            "------------------------------------------------\n",
            "5.2 M     Trainable params\n",
            "0         Non-trainable params\n",
            "5.2 M     Total params\n",
            "20.729    Total estimated model params size (MB)\n",
            "3         Modules in train mode\n",
            "0         Modules in eval mode\n"
          ]
        },
        {
          "data": {
            "application/vnd.jupyter.widget-view+json": {
              "model_id": "",
              "version_major": 2,
              "version_minor": 0
            },
            "text/plain": [
              "Sanity Checking: |                                                                                | 0/? [00:00…"
            ]
          },
          "metadata": {},
          "output_type": "display_data"
        },
        {
          "data": {
            "application/vnd.jupyter.widget-view+json": {
              "model_id": "48a9ffa558f0478795d3c99a503e741a",
              "version_major": 2,
              "version_minor": 0
            },
            "text/plain": [
              "Training: |                                                                                       | 0/? [00:00…"
            ]
          },
          "metadata": {},
          "output_type": "display_data"
        },
        {
          "data": {
            "application/vnd.jupyter.widget-view+json": {
              "model_id": "",
              "version_major": 2,
              "version_minor": 0
            },
            "text/plain": [
              "Validation: |                                                                                     | 0/? [00:00…"
            ]
          },
          "metadata": {},
          "output_type": "display_data"
        },
        {
          "data": {
            "application/vnd.jupyter.widget-view+json": {
              "model_id": "",
              "version_major": 2,
              "version_minor": 0
            },
            "text/plain": [
              "Validation: |                                                                                     | 0/? [00:00…"
            ]
          },
          "metadata": {},
          "output_type": "display_data"
        },
        {
          "data": {
            "application/vnd.jupyter.widget-view+json": {
              "model_id": "",
              "version_major": 2,
              "version_minor": 0
            },
            "text/plain": [
              "Validation: |                                                                                     | 0/? [00:00…"
            ]
          },
          "metadata": {},
          "output_type": "display_data"
        },
        {
          "data": {
            "application/vnd.jupyter.widget-view+json": {
              "model_id": "",
              "version_major": 2,
              "version_minor": 0
            },
            "text/plain": [
              "Validation: |                                                                                     | 0/? [00:00…"
            ]
          },
          "metadata": {},
          "output_type": "display_data"
        },
        {
          "data": {
            "application/vnd.jupyter.widget-view+json": {
              "model_id": "",
              "version_major": 2,
              "version_minor": 0
            },
            "text/plain": [
              "Validation: |                                                                                     | 0/? [00:00…"
            ]
          },
          "metadata": {},
          "output_type": "display_data"
        },
        {
          "data": {
            "application/vnd.jupyter.widget-view+json": {
              "model_id": "",
              "version_major": 2,
              "version_minor": 0
            },
            "text/plain": [
              "Validation: |                                                                                     | 0/? [00:00…"
            ]
          },
          "metadata": {},
          "output_type": "display_data"
        },
        {
          "data": {
            "application/vnd.jupyter.widget-view+json": {
              "model_id": "",
              "version_major": 2,
              "version_minor": 0
            },
            "text/plain": [
              "Validation: |                                                                                     | 0/? [00:00…"
            ]
          },
          "metadata": {},
          "output_type": "display_data"
        },
        {
          "data": {
            "application/vnd.jupyter.widget-view+json": {
              "model_id": "",
              "version_major": 2,
              "version_minor": 0
            },
            "text/plain": [
              "Validation: |                                                                                     | 0/? [00:00…"
            ]
          },
          "metadata": {},
          "output_type": "display_data"
        },
        {
          "data": {
            "application/vnd.jupyter.widget-view+json": {
              "model_id": "",
              "version_major": 2,
              "version_minor": 0
            },
            "text/plain": [
              "Validation: |                                                                                     | 0/? [00:00…"
            ]
          },
          "metadata": {},
          "output_type": "display_data"
        },
        {
          "data": {
            "application/vnd.jupyter.widget-view+json": {
              "model_id": "",
              "version_major": 2,
              "version_minor": 0
            },
            "text/plain": [
              "Validation: |                                                                                     | 0/? [00:00…"
            ]
          },
          "metadata": {},
          "output_type": "display_data"
        },
        {
          "name": "stderr",
          "output_type": "stream",
          "text": [
            "`Trainer.fit` stopped: `max_epochs=10` reached.\n"
          ]
        }
      ],
      "source": [
        "lstm_trainer.fit(lstm_model, train_dataloader, val_dataloader)"
      ]
    },
    {
      "cell_type": "code",
      "execution_count": null,
      "id": "80826e81-ad5d-45f1-be1a-7962feda7a79",
      "metadata": {
        "id": "80826e81-ad5d-45f1-be1a-7962feda7a79",
        "outputId": "05142c1c-4a14-483e-c304-de640d14cadc",
        "colab": {
          "referenced_widgets": [
            "8745d1f44a7d4ea88dc2e2faecd9e659"
          ]
        }
      },
      "outputs": [
        {
          "name": "stderr",
          "output_type": "stream",
          "text": [
            "LOCAL_RANK: 0 - CUDA_VISIBLE_DEVICES: [0]\n"
          ]
        },
        {
          "data": {
            "application/vnd.jupyter.widget-view+json": {
              "model_id": "8745d1f44a7d4ea88dc2e2faecd9e659",
              "version_major": 2,
              "version_minor": 0
            },
            "text/plain": [
              "Validation: |                                                                                     | 0/? [00:00…"
            ]
          },
          "metadata": {},
          "output_type": "display_data"
        },
        {
          "data": {
            "text/html": [
              "<pre style=\"white-space:pre;overflow-x:auto;line-height:normal;font-family:Menlo,'DejaVu Sans Mono',consolas,'Courier New',monospace\">┏━━━━━━━━━━━━━━━━━━━━━━━━━━━┳━━━━━━━━━━━━━━━━━━━━━━━━━━━┓\n",
              "┃<span style=\"font-weight: bold\">      Validate metric      </span>┃<span style=\"font-weight: bold\">       DataLoader 0        </span>┃\n",
              "┡━━━━━━━━━━━━━━━━━━━━━━━━━━━╇━━━━━━━━━━━━━━━━━━━━━━━━━━━┩\n",
              "│<span style=\"color: #008080; text-decoration-color: #008080\">       val_accuracy        </span>│<span style=\"color: #800080; text-decoration-color: #800080\">    0.9223544001579285     </span>│\n",
              "│<span style=\"color: #008080; text-decoration-color: #008080\">         val_loss          </span>│<span style=\"color: #800080; text-decoration-color: #800080\">     0.298117995262146     </span>│\n",
              "└───────────────────────────┴───────────────────────────┘\n",
              "</pre>\n"
            ],
            "text/plain": [
              "┏━━━━━━━━━━━━━━━━━━━━━━━━━━━┳━━━━━━━━━━━━━━━━━━━━━━━━━━━┓\n",
              "┃\u001b[1m \u001b[0m\u001b[1m     Validate metric     \u001b[0m\u001b[1m \u001b[0m┃\u001b[1m \u001b[0m\u001b[1m      DataLoader 0       \u001b[0m\u001b[1m \u001b[0m┃\n",
              "┡━━━━━━━━━━━━━━━━━━━━━━━━━━━╇━━━━━━━━━━━━━━━━━━━━━━━━━━━┩\n",
              "│\u001b[36m \u001b[0m\u001b[36m      val_accuracy       \u001b[0m\u001b[36m \u001b[0m│\u001b[35m \u001b[0m\u001b[35m   0.9223544001579285    \u001b[0m\u001b[35m \u001b[0m│\n",
              "│\u001b[36m \u001b[0m\u001b[36m        val_loss         \u001b[0m\u001b[36m \u001b[0m│\u001b[35m \u001b[0m\u001b[35m    0.298117995262146    \u001b[0m\u001b[35m \u001b[0m│\n",
              "└───────────────────────────┴───────────────────────────┘\n"
            ]
          },
          "metadata": {},
          "output_type": "display_data"
        },
        {
          "data": {
            "text/plain": [
              "[{'val_loss': 0.298117995262146, 'val_accuracy': 0.9223544001579285}]"
            ]
          },
          "execution_count": 251,
          "metadata": {},
          "output_type": "execute_result"
        }
      ],
      "source": [
        "lstm_trainer.validate(lstm_model, val_dataloader)"
      ]
    },
    {
      "cell_type": "code",
      "execution_count": null,
      "id": "290211b9-fb6c-47e8-a344-efea2e0452f5",
      "metadata": {
        "id": "290211b9-fb6c-47e8-a344-efea2e0452f5",
        "outputId": "30466a27-77c7-4a98-b502-ac4ac1b7aba6",
        "colab": {
          "referenced_widgets": [
            "12a6a8dfad214df2861e87c9a1808840"
          ]
        }
      },
      "outputs": [
        {
          "name": "stderr",
          "output_type": "stream",
          "text": [
            "LOCAL_RANK: 0 - CUDA_VISIBLE_DEVICES: [0]\n"
          ]
        },
        {
          "data": {
            "application/vnd.jupyter.widget-view+json": {
              "model_id": "12a6a8dfad214df2861e87c9a1808840",
              "version_major": 2,
              "version_minor": 0
            },
            "text/plain": [
              "Testing: |                                                                                        | 0/? [00:00…"
            ]
          },
          "metadata": {},
          "output_type": "display_data"
        },
        {
          "data": {
            "text/html": [
              "<pre style=\"white-space:pre;overflow-x:auto;line-height:normal;font-family:Menlo,'DejaVu Sans Mono',consolas,'Courier New',monospace\">┏━━━━━━━━━━━━━━━━━━━━━━━━━━━┳━━━━━━━━━━━━━━━━━━━━━━━━━━━┓\n",
              "┃<span style=\"font-weight: bold\">        Test metric        </span>┃<span style=\"font-weight: bold\">       DataLoader 0        </span>┃\n",
              "┡━━━━━━━━━━━━━━━━━━━━━━━━━━━╇━━━━━━━━━━━━━━━━━━━━━━━━━━━┩\n",
              "│<span style=\"color: #008080; text-decoration-color: #008080\">       test_accuracy       </span>│<span style=\"color: #800080; text-decoration-color: #800080\">    0.9123539328575134     </span>│\n",
              "│<span style=\"color: #008080; text-decoration-color: #008080\">         test_loss         </span>│<span style=\"color: #800080; text-decoration-color: #800080\">    0.33435702323913574    </span>│\n",
              "└───────────────────────────┴───────────────────────────┘\n",
              "</pre>\n"
            ],
            "text/plain": [
              "┏━━━━━━━━━━━━━━━━━━━━━━━━━━━┳━━━━━━━━━━━━━━━━━━━━━━━━━━━┓\n",
              "┃\u001b[1m \u001b[0m\u001b[1m       Test metric       \u001b[0m\u001b[1m \u001b[0m┃\u001b[1m \u001b[0m\u001b[1m      DataLoader 0       \u001b[0m\u001b[1m \u001b[0m┃\n",
              "┡━━━━━━━━━━━━━━━━━━━━━━━━━━━╇━━━━━━━━━━━━━━━━━━━━━━━━━━━┩\n",
              "│\u001b[36m \u001b[0m\u001b[36m      test_accuracy      \u001b[0m\u001b[36m \u001b[0m│\u001b[35m \u001b[0m\u001b[35m   0.9123539328575134    \u001b[0m\u001b[35m \u001b[0m│\n",
              "│\u001b[36m \u001b[0m\u001b[36m        test_loss        \u001b[0m\u001b[36m \u001b[0m│\u001b[35m \u001b[0m\u001b[35m   0.33435702323913574   \u001b[0m\u001b[35m \u001b[0m│\n",
              "└───────────────────────────┴───────────────────────────┘\n"
            ]
          },
          "metadata": {},
          "output_type": "display_data"
        },
        {
          "data": {
            "text/plain": [
              "[{'test_loss': 0.33435702323913574, 'test_accuracy': 0.9123539328575134}]"
            ]
          },
          "execution_count": 252,
          "metadata": {},
          "output_type": "execute_result"
        }
      ],
      "source": [
        "lstm_trainer.test(lstm_model, test_dataloader)"
      ]
    },
    {
      "cell_type": "markdown",
      "id": "e103b96a-085e-48a4-8f3f-18689c21e00c",
      "metadata": {
        "id": "e103b96a-085e-48a4-8f3f-18689c21e00c"
      },
      "source": [
        "## GRU"
      ]
    },
    {
      "cell_type": "code",
      "execution_count": null,
      "id": "2238c1a1-71dd-488c-a8d3-7c2a3eded6a0",
      "metadata": {
        "id": "2238c1a1-71dd-488c-a8d3-7c2a3eded6a0"
      },
      "outputs": [],
      "source": [
        "class GRUModel(pl.LightningModule):\n",
        "    def __init__(self, vocab_size, embedding_dim, hidden_dim, num_classes):\n",
        "        super(GRUModel, self).__init__()\n",
        "        self.embedding = nn.Embedding(vocab_size, embedding_dim)\n",
        "        self.gru = nn.GRU(embedding_dim, hidden_dim, batch_first=True)\n",
        "        self.fc = nn.Linear(hidden_dim, num_classes)\n",
        "\n",
        "        self.init_weights()\n",
        "\n",
        "    def forward(self, x):\n",
        "        x = self.embedding(x)\n",
        "        x, _ = self.gru(x)\n",
        "        x = x[:, -1, :]\n",
        "        x = self.fc(x)\n",
        "        return x\n",
        "\n",
        "    def configure_optimizers(self):\n",
        "        optimizer = torch.optim.Adam(self.parameters(), lr=1e-3)\n",
        "        return optimizer\n",
        "\n",
        "    def training_step(self, train_batch, batch_idx):\n",
        "        x, y = train_batch\n",
        "        y_hat = self(x)\n",
        "        loss = F.cross_entropy(y_hat, y)\n",
        "        self.log(\"train_loss\", loss)\n",
        "\n",
        "        acc = self.calculate_accuracy(y_hat, y)\n",
        "        self.log(\"train_accuracy\", acc)\n",
        "\n",
        "        return loss\n",
        "\n",
        "    def validation_step(self, val_batch, batch_idx):\n",
        "        x, y = val_batch\n",
        "        y_hat = self(x)\n",
        "        loss = F.cross_entropy(y_hat, y)\n",
        "        self.log(\"val_loss\", loss)\n",
        "\n",
        "        acc = self.calculate_accuracy(y_hat, y)\n",
        "        self.log(\"val_accuracy\", acc)\n",
        "\n",
        "    def test_step(self, test_batch, batch_idx):\n",
        "        x, y = test_batch\n",
        "        y_hat = self(x)\n",
        "        loss = F.cross_entropy(y_hat, y)\n",
        "        self.log(\"test_loss\", loss)\n",
        "\n",
        "        acc = self.calculate_accuracy(y_hat, y)\n",
        "        self.log(\"test_accuracy\", acc)\n",
        "\n",
        "    def init_weights(self):\n",
        "        for name, param in self.named_parameters():\n",
        "            if \"weight\" in name:\n",
        "                nn.init.xavier_uniform_(param)\n",
        "            if \"bias\" in name:\n",
        "                nn.init.zeros_(param)\n",
        "\n",
        "    def calculate_accuracy(self, y_hat, y):\n",
        "        preds = torch.argmax(y_hat, dim=1)\n",
        "        correct = (preds == y).sum().item()\n",
        "        acc = correct / y.size(0)\n",
        "        return acc"
      ]
    },
    {
      "cell_type": "code",
      "execution_count": null,
      "id": "ef5eec9d-8e82-4155-911c-6df6356ee54d",
      "metadata": {
        "id": "ef5eec9d-8e82-4155-911c-6df6356ee54d"
      },
      "outputs": [],
      "source": [
        "gru_model = GRUModel(\n",
        "    vocab_size=VOCAB_SIZE,\n",
        "    embedding_dim=EMBEDDING_DIM,\n",
        "    hidden_dim=HIDDEN_DIM,\n",
        "    num_classes=NUM_CLASSES\n",
        ").to(DEVICE)"
      ]
    },
    {
      "cell_type": "code",
      "execution_count": null,
      "id": "f94bc968-d387-415c-9a9e-2aa257eb8323",
      "metadata": {
        "id": "f94bc968-d387-415c-9a9e-2aa257eb8323",
        "outputId": "bac5264c-a221-4082-c609-2eb75e3bc705"
      },
      "outputs": [
        {
          "name": "stderr",
          "output_type": "stream",
          "text": [
            "GPU available: True (cuda), used: True\n",
            "TPU available: False, using: 0 TPU cores\n",
            "HPU available: False, using: 0 HPUs\n"
          ]
        }
      ],
      "source": [
        "gru_trainer = Trainer(\n",
        "    max_epochs=NUM_EPOCHS,\n",
        "    accelerator=\"gpu\"\n",
        ")"
      ]
    },
    {
      "cell_type": "code",
      "execution_count": null,
      "id": "03010be2-07e3-4e16-8f8d-75e873f7d8df",
      "metadata": {
        "id": "03010be2-07e3-4e16-8f8d-75e873f7d8df",
        "outputId": "51671e87-548a-4cbe-da98-cadf102eddf9",
        "colab": {
          "referenced_widgets": [
            "",
            "cc9379911f524e31990afcf91027fff7"
          ]
        }
      },
      "outputs": [
        {
          "name": "stderr",
          "output_type": "stream",
          "text": [
            "LOCAL_RANK: 0 - CUDA_VISIBLE_DEVICES: [0]\n",
            "\n",
            "  | Name      | Type      | Params | Mode \n",
            "------------------------------------------------\n",
            "0 | embedding | Embedding | 5.0 M  | train\n",
            "1 | gru       | GRU       | 126 K  | train\n",
            "2 | fc        | Linear    | 1.9 K  | train\n",
            "------------------------------------------------\n",
            "5.1 M     Trainable params\n",
            "0         Non-trainable params\n",
            "5.1 M     Total params\n",
            "20.560    Total estimated model params size (MB)\n",
            "3         Modules in train mode\n",
            "0         Modules in eval mode\n"
          ]
        },
        {
          "data": {
            "application/vnd.jupyter.widget-view+json": {
              "model_id": "",
              "version_major": 2,
              "version_minor": 0
            },
            "text/plain": [
              "Sanity Checking: |                                                                                | 0/? [00:00…"
            ]
          },
          "metadata": {},
          "output_type": "display_data"
        },
        {
          "data": {
            "application/vnd.jupyter.widget-view+json": {
              "model_id": "cc9379911f524e31990afcf91027fff7",
              "version_major": 2,
              "version_minor": 0
            },
            "text/plain": [
              "Training: |                                                                                       | 0/? [00:00…"
            ]
          },
          "metadata": {},
          "output_type": "display_data"
        },
        {
          "data": {
            "application/vnd.jupyter.widget-view+json": {
              "model_id": "",
              "version_major": 2,
              "version_minor": 0
            },
            "text/plain": [
              "Validation: |                                                                                     | 0/? [00:00…"
            ]
          },
          "metadata": {},
          "output_type": "display_data"
        },
        {
          "data": {
            "application/vnd.jupyter.widget-view+json": {
              "model_id": "",
              "version_major": 2,
              "version_minor": 0
            },
            "text/plain": [
              "Validation: |                                                                                     | 0/? [00:00…"
            ]
          },
          "metadata": {},
          "output_type": "display_data"
        },
        {
          "data": {
            "application/vnd.jupyter.widget-view+json": {
              "model_id": "",
              "version_major": 2,
              "version_minor": 0
            },
            "text/plain": [
              "Validation: |                                                                                     | 0/? [00:00…"
            ]
          },
          "metadata": {},
          "output_type": "display_data"
        },
        {
          "data": {
            "application/vnd.jupyter.widget-view+json": {
              "model_id": "",
              "version_major": 2,
              "version_minor": 0
            },
            "text/plain": [
              "Validation: |                                                                                     | 0/? [00:00…"
            ]
          },
          "metadata": {},
          "output_type": "display_data"
        },
        {
          "data": {
            "application/vnd.jupyter.widget-view+json": {
              "model_id": "",
              "version_major": 2,
              "version_minor": 0
            },
            "text/plain": [
              "Validation: |                                                                                     | 0/? [00:00…"
            ]
          },
          "metadata": {},
          "output_type": "display_data"
        },
        {
          "data": {
            "application/vnd.jupyter.widget-view+json": {
              "model_id": "",
              "version_major": 2,
              "version_minor": 0
            },
            "text/plain": [
              "Validation: |                                                                                     | 0/? [00:00…"
            ]
          },
          "metadata": {},
          "output_type": "display_data"
        },
        {
          "data": {
            "application/vnd.jupyter.widget-view+json": {
              "model_id": "",
              "version_major": 2,
              "version_minor": 0
            },
            "text/plain": [
              "Validation: |                                                                                     | 0/? [00:00…"
            ]
          },
          "metadata": {},
          "output_type": "display_data"
        },
        {
          "data": {
            "application/vnd.jupyter.widget-view+json": {
              "model_id": "",
              "version_major": 2,
              "version_minor": 0
            },
            "text/plain": [
              "Validation: |                                                                                     | 0/? [00:00…"
            ]
          },
          "metadata": {},
          "output_type": "display_data"
        },
        {
          "data": {
            "application/vnd.jupyter.widget-view+json": {
              "model_id": "",
              "version_major": 2,
              "version_minor": 0
            },
            "text/plain": [
              "Validation: |                                                                                     | 0/? [00:00…"
            ]
          },
          "metadata": {},
          "output_type": "display_data"
        },
        {
          "data": {
            "application/vnd.jupyter.widget-view+json": {
              "model_id": "",
              "version_major": 2,
              "version_minor": 0
            },
            "text/plain": [
              "Validation: |                                                                                     | 0/? [00:00…"
            ]
          },
          "metadata": {},
          "output_type": "display_data"
        },
        {
          "name": "stderr",
          "output_type": "stream",
          "text": [
            "`Trainer.fit` stopped: `max_epochs=10` reached.\n"
          ]
        }
      ],
      "source": [
        "gru_trainer.fit(gru_model, train_dataloader, val_dataloader)"
      ]
    },
    {
      "cell_type": "code",
      "execution_count": null,
      "id": "ccf869d8-a173-4aa3-b4b0-c18e88b60e4f",
      "metadata": {
        "id": "ccf869d8-a173-4aa3-b4b0-c18e88b60e4f",
        "outputId": "9207aa1a-ad1e-4b34-8a56-dc4465f7d83b",
        "colab": {
          "referenced_widgets": [
            "52f555a2980b4fa3b307ed6dc8ae780e"
          ]
        }
      },
      "outputs": [
        {
          "name": "stderr",
          "output_type": "stream",
          "text": [
            "LOCAL_RANK: 0 - CUDA_VISIBLE_DEVICES: [0]\n"
          ]
        },
        {
          "data": {
            "application/vnd.jupyter.widget-view+json": {
              "model_id": "52f555a2980b4fa3b307ed6dc8ae780e",
              "version_major": 2,
              "version_minor": 0
            },
            "text/plain": [
              "Validation: |                                                                                     | 0/? [00:00…"
            ]
          },
          "metadata": {},
          "output_type": "display_data"
        },
        {
          "data": {
            "text/html": [
              "<pre style=\"white-space:pre;overflow-x:auto;line-height:normal;font-family:Menlo,'DejaVu Sans Mono',consolas,'Courier New',monospace\">┏━━━━━━━━━━━━━━━━━━━━━━━━━━━┳━━━━━━━━━━━━━━━━━━━━━━━━━━━┓\n",
              "┃<span style=\"font-weight: bold\">      Validate metric      </span>┃<span style=\"font-weight: bold\">       DataLoader 0        </span>┃\n",
              "┡━━━━━━━━━━━━━━━━━━━━━━━━━━━╇━━━━━━━━━━━━━━━━━━━━━━━━━━━┩\n",
              "│<span style=\"color: #008080; text-decoration-color: #008080\">       val_accuracy        </span>│<span style=\"color: #800080; text-decoration-color: #800080\">    0.9180755615234375     </span>│\n",
              "│<span style=\"color: #008080; text-decoration-color: #008080\">         val_loss          </span>│<span style=\"color: #800080; text-decoration-color: #800080\">    0.3141489028930664     </span>│\n",
              "└───────────────────────────┴───────────────────────────┘\n",
              "</pre>\n"
            ],
            "text/plain": [
              "┏━━━━━━━━━━━━━━━━━━━━━━━━━━━┳━━━━━━━━━━━━━━━━━━━━━━━━━━━┓\n",
              "┃\u001b[1m \u001b[0m\u001b[1m     Validate metric     \u001b[0m\u001b[1m \u001b[0m┃\u001b[1m \u001b[0m\u001b[1m      DataLoader 0       \u001b[0m\u001b[1m \u001b[0m┃\n",
              "┡━━━━━━━━━━━━━━━━━━━━━━━━━━━╇━━━━━━━━━━━━━━━━━━━━━━━━━━━┩\n",
              "│\u001b[36m \u001b[0m\u001b[36m      val_accuracy       \u001b[0m\u001b[36m \u001b[0m│\u001b[35m \u001b[0m\u001b[35m   0.9180755615234375    \u001b[0m\u001b[35m \u001b[0m│\n",
              "│\u001b[36m \u001b[0m\u001b[36m        val_loss         \u001b[0m\u001b[36m \u001b[0m│\u001b[35m \u001b[0m\u001b[35m   0.3141489028930664    \u001b[0m\u001b[35m \u001b[0m│\n",
              "└───────────────────────────┴───────────────────────────┘\n"
            ]
          },
          "metadata": {},
          "output_type": "display_data"
        },
        {
          "data": {
            "text/plain": [
              "[{'val_loss': 0.3141489028930664, 'val_accuracy': 0.9180755615234375}]"
            ]
          },
          "execution_count": 235,
          "metadata": {},
          "output_type": "execute_result"
        }
      ],
      "source": [
        "gru_trainer.validate(gru_model, val_dataloader)"
      ]
    },
    {
      "cell_type": "code",
      "execution_count": null,
      "id": "084082c8-4a54-4111-86e5-434a0b2dea23",
      "metadata": {
        "id": "084082c8-4a54-4111-86e5-434a0b2dea23",
        "outputId": "9fb93dfc-02e5-4102-d513-e2cd4a785c6e",
        "colab": {
          "referenced_widgets": [
            "e606a21cc8394460a40c6280a143e54c"
          ]
        }
      },
      "outputs": [
        {
          "name": "stderr",
          "output_type": "stream",
          "text": [
            "LOCAL_RANK: 0 - CUDA_VISIBLE_DEVICES: [0]\n"
          ]
        },
        {
          "data": {
            "application/vnd.jupyter.widget-view+json": {
              "model_id": "e606a21cc8394460a40c6280a143e54c",
              "version_major": 2,
              "version_minor": 0
            },
            "text/plain": [
              "Testing: |                                                                                        | 0/? [00:00…"
            ]
          },
          "metadata": {},
          "output_type": "display_data"
        },
        {
          "data": {
            "text/html": [
              "<pre style=\"white-space:pre;overflow-x:auto;line-height:normal;font-family:Menlo,'DejaVu Sans Mono',consolas,'Courier New',monospace\">┏━━━━━━━━━━━━━━━━━━━━━━━━━━━┳━━━━━━━━━━━━━━━━━━━━━━━━━━━┓\n",
              "┃<span style=\"font-weight: bold\">        Test metric        </span>┃<span style=\"font-weight: bold\">       DataLoader 0        </span>┃\n",
              "┡━━━━━━━━━━━━━━━━━━━━━━━━━━━╇━━━━━━━━━━━━━━━━━━━━━━━━━━━┩\n",
              "│<span style=\"color: #008080; text-decoration-color: #008080\">       test_accuracy       </span>│<span style=\"color: #800080; text-decoration-color: #800080\">    0.9077629446983337     </span>│\n",
              "│<span style=\"color: #008080; text-decoration-color: #008080\">         test_loss         </span>│<span style=\"color: #800080; text-decoration-color: #800080\">    0.37991973757743835    </span>│\n",
              "└───────────────────────────┴───────────────────────────┘\n",
              "</pre>\n"
            ],
            "text/plain": [
              "┏━━━━━━━━━━━━━━━━━━━━━━━━━━━┳━━━━━━━━━━━━━━━━━━━━━━━━━━━┓\n",
              "┃\u001b[1m \u001b[0m\u001b[1m       Test metric       \u001b[0m\u001b[1m \u001b[0m┃\u001b[1m \u001b[0m\u001b[1m      DataLoader 0       \u001b[0m\u001b[1m \u001b[0m┃\n",
              "┡━━━━━━━━━━━━━━━━━━━━━━━━━━━╇━━━━━━━━━━━━━━━━━━━━━━━━━━━┩\n",
              "│\u001b[36m \u001b[0m\u001b[36m      test_accuracy      \u001b[0m\u001b[36m \u001b[0m│\u001b[35m \u001b[0m\u001b[35m   0.9077629446983337    \u001b[0m\u001b[35m \u001b[0m│\n",
              "│\u001b[36m \u001b[0m\u001b[36m        test_loss        \u001b[0m\u001b[36m \u001b[0m│\u001b[35m \u001b[0m\u001b[35m   0.37991973757743835   \u001b[0m\u001b[35m \u001b[0m│\n",
              "└───────────────────────────┴───────────────────────────┘\n"
            ]
          },
          "metadata": {},
          "output_type": "display_data"
        },
        {
          "data": {
            "text/plain": [
              "[{'test_loss': 0.37991973757743835, 'test_accuracy': 0.9077629446983337}]"
            ]
          },
          "execution_count": 236,
          "metadata": {},
          "output_type": "execute_result"
        }
      ],
      "source": [
        "gru_trainer.test(gru_model, test_dataloader)"
      ]
    },
    {
      "cell_type": "markdown",
      "id": "47fd346f-f8a7-4cac-82c2-5cc99dc5017d",
      "metadata": {
        "id": "47fd346f-f8a7-4cac-82c2-5cc99dc5017d"
      },
      "source": [
        "# Метрики"
      ]
    },
    {
      "cell_type": "code",
      "execution_count": null,
      "id": "502424f8-5647-4954-b00a-24dcfcd207ef",
      "metadata": {
        "id": "502424f8-5647-4954-b00a-24dcfcd207ef"
      },
      "outputs": [],
      "source": [
        "from sklearn.metrics import classification_report"
      ]
    },
    {
      "cell_type": "markdown",
      "id": "9e4c3b21-022d-4132-b6e5-49fee251e1b1",
      "metadata": {
        "id": "9e4c3b21-022d-4132-b6e5-49fee251e1b1"
      },
      "source": [
        "## RNN"
      ]
    },
    {
      "cell_type": "code",
      "execution_count": null,
      "id": "d9a4735b-d3e6-40ba-9377-26a45db86164",
      "metadata": {
        "id": "d9a4735b-d3e6-40ba-9377-26a45db86164",
        "outputId": "1e25a34f-ba68-439e-8665-b64432e1798c"
      },
      "outputs": [
        {
          "name": "stdout",
          "output_type": "stream",
          "text": [
            "              precision    recall  f1-score   support\n",
            "\n",
            "           0       0.94      0.95      0.95      1432\n",
            "           1       0.87      0.89      0.88       563\n",
            "           2       0.85      0.91      0.88        67\n",
            "           3       0.71      0.63      0.67        63\n",
            "           4       0.73      0.76      0.75        25\n",
            "           5       0.88      0.84      0.86        82\n",
            "           6       0.89      0.95      0.92        42\n",
            "           7       0.61      0.59      0.60        32\n",
            "           8       0.74      0.58      0.65        24\n",
            "           9       0.89      0.80      0.84        10\n",
            "          10       0.50      0.55      0.52        11\n",
            "          11       1.00      0.14      0.25         7\n",
            "          12       0.64      0.44      0.52        16\n",
            "          13       0.33      0.08      0.13        12\n",
            "          14       0.89      0.80      0.84        10\n",
            "\n",
            "    accuracy                           0.90      2396\n",
            "   macro avg       0.77      0.66      0.68      2396\n",
            "weighted avg       0.90      0.90      0.90      2396\n",
            "\n"
          ]
        }
      ],
      "source": [
        "y_pred = rnn_model(X_test_tensor).cpu().detach()\n",
        "y_pred = np.argmax(y_pred, axis=1)\n",
        "print(classification_report(y_test_tensor, y_pred))"
      ]
    },
    {
      "cell_type": "markdown",
      "id": "9fb56afd-60e8-4530-b3ab-815485336ab5",
      "metadata": {
        "id": "9fb56afd-60e8-4530-b3ab-815485336ab5"
      },
      "source": [
        "## LSTM"
      ]
    },
    {
      "cell_type": "code",
      "execution_count": null,
      "id": "7e2c1ee8-0797-45f1-955d-e0b4b9873935",
      "metadata": {
        "id": "7e2c1ee8-0797-45f1-955d-e0b4b9873935",
        "outputId": "d787b166-7c68-4f4e-ab2b-74db65a9305e"
      },
      "outputs": [
        {
          "name": "stdout",
          "output_type": "stream",
          "text": [
            "              precision    recall  f1-score   support\n",
            "\n",
            "           0       0.95      0.96      0.95      1432\n",
            "           1       0.89      0.88      0.89       563\n",
            "           2       0.87      0.88      0.87        67\n",
            "           3       0.63      0.70      0.66        63\n",
            "           4       0.69      0.88      0.77        25\n",
            "           5       0.92      0.93      0.92        82\n",
            "           6       0.87      0.93      0.90        42\n",
            "           7       0.82      0.72      0.77        32\n",
            "           8       0.78      0.58      0.67        24\n",
            "           9       0.89      0.80      0.84        10\n",
            "          10       0.67      0.73      0.70        11\n",
            "          11       0.50      0.14      0.22         7\n",
            "          12       0.82      0.56      0.67        16\n",
            "          13       0.78      0.58      0.67        12\n",
            "          14       0.89      0.80      0.84        10\n",
            "\n",
            "    accuracy                           0.91      2396\n",
            "   macro avg       0.80      0.74      0.76      2396\n",
            "weighted avg       0.91      0.91      0.91      2396\n",
            "\n"
          ]
        }
      ],
      "source": [
        "y_pred = lstm_model(X_test_tensor).cpu().detach()\n",
        "y_pred = np.argmax(y_pred, axis=1)\n",
        "print(classification_report(y_test_tensor, y_pred))"
      ]
    },
    {
      "cell_type": "markdown",
      "id": "cfc803c6-33a2-45bc-a6d6-f8c7873d42db",
      "metadata": {
        "id": "cfc803c6-33a2-45bc-a6d6-f8c7873d42db"
      },
      "source": [
        "## GRU"
      ]
    },
    {
      "cell_type": "code",
      "execution_count": null,
      "id": "4a2f8370-7af4-45dc-9f7b-cae9d3627c1f",
      "metadata": {
        "id": "4a2f8370-7af4-45dc-9f7b-cae9d3627c1f",
        "outputId": "65e8da7d-ef10-4ccf-a681-11e051cac2e5"
      },
      "outputs": [
        {
          "name": "stdout",
          "output_type": "stream",
          "text": [
            "              precision    recall  f1-score   support\n",
            "\n",
            "           0       0.95      0.95      0.95      1432\n",
            "           1       0.88      0.90      0.89       563\n",
            "           2       0.91      0.91      0.91        67\n",
            "           3       0.55      0.70      0.62        63\n",
            "           4       0.83      0.80      0.82        25\n",
            "           5       0.93      0.85      0.89        82\n",
            "           6       0.89      0.93      0.91        42\n",
            "           7       0.75      0.66      0.70        32\n",
            "           8       0.82      0.58      0.68        24\n",
            "           9       0.71      0.50      0.59        10\n",
            "          10       0.75      0.55      0.63        11\n",
            "          11       0.50      0.29      0.36         7\n",
            "          12       0.70      0.88      0.78        16\n",
            "          13       0.78      0.58      0.67        12\n",
            "          14       0.67      0.80      0.73        10\n",
            "\n",
            "    accuracy                           0.91      2396\n",
            "   macro avg       0.78      0.72      0.74      2396\n",
            "weighted avg       0.91      0.91      0.91      2396\n",
            "\n"
          ]
        }
      ],
      "source": [
        "y_pred = gru_model(X_test_tensor).cpu().detach()\n",
        "y_pred = np.argmax(y_pred, axis=1)\n",
        "print(classification_report(y_test_tensor, y_pred))"
      ]
    }
  ],
  "metadata": {
    "kernelspec": {
      "display_name": "Python 3 (ipykernel)",
      "language": "python",
      "name": "python3"
    },
    "language_info": {
      "codemirror_mode": {
        "name": "ipython",
        "version": 3
      },
      "file_extension": ".py",
      "mimetype": "text/x-python",
      "name": "python",
      "nbconvert_exporter": "python",
      "pygments_lexer": "ipython3",
      "version": "3.10.12"
    },
    "colab": {
      "provenance": []
    }
  },
  "nbformat": 4,
  "nbformat_minor": 5
}